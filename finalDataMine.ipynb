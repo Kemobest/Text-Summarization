{
  "nbformat": 4,
  "nbformat_minor": 0,
  "metadata": {
    "colab": {
      "name": "finalDataMine.ipynb",
      "provenance": [],
      "collapsed_sections": []
    },
    "kernelspec": {
      "name": "python3",
      "display_name": "Python 3"
    },
    "language_info": {
      "name": "python"
    }
  },
  "cells": [
    {
      "cell_type": "markdown",
      "metadata": {
        "id": "yLPga_ggFh8y"
      },
      "source": [
        "# **Text Summarization**\n",
        "\n",
        "---\n",
        "https://blog.floydhub.com/gentle-introduction-to-text-summarization-in-machine-learning/\n",
        "\n"
      ]
    },
    {
      "cell_type": "markdown",
      "source": [
        "รายชื่อสมาชิกกลุ่ม\n",
        "1. ฉัตริน เหมรา 6242017426\n",
        "2. บรรณวิชญ์ เอี่ยมสวัสดิ์ 6242051726\n",
        "3. ยศวัจน์ อู่สิริมณีชัย 6242079326\n",
        "4. รมย์รดา ลาดมะโรง 6242080926\n",
        "5. ศรณ์ พงษ์นริศร 6242089626\n",
        "6. สพล เชวงโชติ 6242097626\n",
        "7. คุณานนท์ วิมุตติไชย 6242011626"
      ],
      "metadata": {
        "id": "rt2WqA40EJtG"
      }
    },
    {
      "cell_type": "markdown",
      "metadata": {
        "id": "6V2KElz_DLUE"
      },
      "source": [
        "**Step 1: Preparing the data**"
      ]
    },
    {
      "cell_type": "markdown",
      "source": [
        "หากมีการดึงเอาบทความมาจากอินเทอร์เน็ตใช้ก็จะมีขั้นตอนดังนี้ ถ้ามีข้อมูลtextอยู่แล้วสามารถข้ามขั้นตอนแรกไปได้เลย\n"
      ],
      "metadata": {
        "id": "zS7yF6SnRKTI"
      }
    },
    {
      "cell_type": "code",
      "metadata": {
        "id": "djMRny32ANdu"
      },
      "source": [
        "import bs4 as BeautifulSoup\n",
        "import urllib.request  \n",
        "\n",
        "# Fetching the content from the URL\n",
        "fetched_data = urllib.request.urlopen('https://en.wikipedia.org/wiki/20th_century')\n",
        "\n",
        "article_read = fetched_data.read()\n",
        "\n",
        "# Parsing the URL content and storing in a variable\n",
        "article_parsed = BeautifulSoup.BeautifulSoup(article_read,'html.parser')\n",
        "\n",
        "# Returning <p> tags\n",
        "paragraphs = article_parsed.find_all('p')\n",
        "\n",
        "article_content = ''\n",
        "\n",
        "# Looping through the paragraphs and adding them to the variable\n",
        "for p in paragraphs:  \n",
        "    article_content += p.text"
      ],
      "execution_count": null,
      "outputs": []
    },
    {
      "cell_type": "code",
      "source": [
        "print(article_content)"
      ],
      "metadata": {
        "colab": {
          "base_uri": "https://localhost:8080/"
        },
        "id": "S-fmhOy0oQFJ",
        "outputId": "49455bf8-1dac-4367-81a4-359055224bda"
      },
      "execution_count": null,
      "outputs": [
        {
          "output_type": "stream",
          "name": "stdout",
          "text": [
            "The 20th (twentieth) century began on\n",
            "January 1, 1901 (MCMI), and ended on December 31, 2000 (MM).[1] The 20th century was dominated by significant events that defined the modern era: Spanish flu pandemic, World War I and World War II, nuclear weapons, nuclear power and space exploration, nationalism and decolonization, technological advances, and the Cold War and post-Cold War conflicts. These reshaped the political and social structure of the globe.\n",
            "The 20th century saw a massive transformation of humanity's relationship with the natural world. Global population, sea level rise, and ecological collapses increased while competition for land and dwindling resources accelerated deforestation, water depletion, and the mass extinction of many of the world's species and decline in the population of others. Man-made global warming increased the risk of extreme weather conditions.\n",
            "Additional themes include intergovernmental organizations and cultural homogenization through developments in emerging transportation and communications technology; poverty reduction and world population growth, awareness of environmental degradation, ecological extinction;[2][3] and the birth of the Digital Revolution. Automobiles, airplanes and the use of home appliances became common, as did video and audio recording. Great advances in power generation, communication, and medical technology allowed for near-instantaneous worldwide computer communication and genetic modification of life.\n",
            "The repercussions of the World Wars, Cold War, and globalization crafted a world where people are more united than any previous time in human history, as exemplified by the establishment of international law, international aid, and the United Nations. The Marshall Plan—which spent $13 billion ($100 billion in 2019 U.S. dollars)[4] to rebuild the economies of post-war nations—launched \"Pax Americana\". Throughout the latter half of the 20th century, the rivalry between the United States and the Soviet Union created enormous tensions around the world which manifested in various armed proxy regional conflicts and the omnipresent danger of nuclear proliferation. The dissolution of the Soviet Union in 1991 after the collapse of its European alliance was heralded by the West as the end of communism, though by the century's end roughly one in six people on Earth lived under communist rule, mostly in China which was rapidly rising as an economic and geopolitical power.\n",
            "It took over two hundred thousand years of modern human history and 6 million years of human evolution for the world's population to reach 1 billion in 1804;[5] world population reached an estimated 2 billion in 1927; by late 1999, the global population reached 6 billion, with over half in East, South and Southeast Asia.[6][7][8] Global literacy averaged 80%. Penicillin and other medical breakthroughs combined with the World Health Organization's global campaigns to eradicate smallpox and other diseases responsible for more human deaths than all wars and natural disasters combined yielded unprecedented results; smallpox now only existed in labs.[citation needed] Machines came to be used in all areas of production, feeding increasingly intricate supply chains that allowed mankind for the first time to be constrained not by how much it could produce, but by peoples' willingness to consume. Trade improvements greatly expanded upon the limited set of food-producing techniques used since the Neolithic period, multiplying the diversity of foods available and boosting the quality of human nutrition. Until the early 19th century, life expectancy from birth was about thirty in most populations; global lifespan-averages exceeded 40 years for the first time in history, with over half achieving 70 or more years (three decades longer than a century earlier).[9]\n",
            "The 20th (twentieth) century began on\n",
            "January 1, 1901,[1] and ended on December 31, 2000.[10] The term is often used erroneously to refer to \"the 1900s\", the century between January 1, 1900 and December 31, 1999. It was the tenth and final century of the 2nd millennium. Unlike most century years, the year 2000 was a leap year, and the second century leap year in the Gregorian calendar after 1600.\n",
            "The century had the first global-scale total wars between world powers across continents and oceans in World War I and World War II. Nationalism became a major political issue in the world in the 20th century, acknowledged in international law along with the right of nations to self-determination, official decolonization in the mid-century, and related regional conflicts.\n",
            "The century saw a major shift in the way that many people lived, with changes in politics, ideology, economics, society, culture, science, technology, and medicine. The 20th century may have seen more technological and scientific progress than all the other centuries combined since the dawn of civilization. Terms like nationalism, globalism, environmentalism, ideology, world war, genocide, and nuclear war entered common usage. Scientific discoveries, such as the theory of relativity and quantum physics, profoundly changed the foundational models of physical science, forcing scientists to realize that the universe was more complex than previously believed, and dashing the hopes (or fears) at the end of the 19th century that the last few details of scientific knowledge were about to be filled in. It was a century that started with horses, simple automobiles, and freighters but ended with high-speed rail, cruise ships, global commercial air travel and the Space Shuttle. Horses and other pack animals, every society's basic form of personal transportation for thousands of years, were replaced by automobiles and buses within a few decades. These developments were made possible by the exploitation of fossil fuel resources, which offered energy in an easily portable form, but also caused concern about pollution and long-term impact on the environment. Humans explored space for the first time, taking their first footsteps on the Moon.\n",
            "Mass media, telecommunications, and information technology (especially computers, paperback books, public education, and the Internet) made the world's knowledge more widely available. Advancements in medical technology also improved the health of many people: the global life expectancy increased from 35 years to 65 years. Rapid technological advancements, however, also allowed warfare to reach unprecedented levels of destruction. World War II alone killed over 60 million people, while nuclear weapons gave humankind the means to annihilate itself in a short time. However, these same wars resulted in the destruction of the imperial system. For the first time in human history, empires and their wars of expansion and colonization ceased to be a factor in international affairs, resulting in a far more globalized and cooperative world. The last time major powers clashed openly was in 1945, and since then, violence has seen an unprecedented decline.[11]\n",
            "The world also became more culturally homogenized than ever with developments in transportation and communications technology, popular music and other influences of Western culture, international corporations, and what was arguably a truly global economy by the end of the 20th century.\n",
            "Technological advancements during World War I changed the way war was fought, as new inventions such as tanks, chemical weapons, and aircraft modified tactics and strategy. After more than four years of trench warfare in Western Europe, and 20 million dead, the powers that had formed the Triple Entente (France, Britain, and Russia, later replaced by the United States and joined by Italy and Romania) emerged victorious over the Central Powers (Germany, Austria-Hungary, the Ottoman Empire and Bulgaria). In addition to annexing many of the colonial possessions of the vanquished states, the Triple Entente exacted punitive restitution payments from them, plunging Germany in particular into economic depression. The Austro-Hungarian and Ottoman empires were dismantled at the war's conclusion. The Russian Revolution resulted in the overthrow of the Tsarist regime of Nicholas II and the onset of the Russian Civil War. The victorious Bolsheviks then established the Soviet Union, the world's first communist state.\n",
            "At the beginning of the period, the British Empire was the world's most powerful nation,[13] having acted as the world's policeman for the past century. Fascism, a movement which grew out of post-war angst and which accelerated during the Great Depression of the 1930s, gained momentum in Italy, Germany, and Spain in the 1920s and 1930s, culminating in World War II, sparked by Nazi Germany's aggressive expansion at the expense of its neighbors. Meanwhile, Japan had rapidly transformed itself into a technologically advanced industrial power and, along with Germany and Italy, formed the Axis powers. Japan's military expansionism in East Asia and the Pacific Ocean brought it into conflict with the United States, culminating in a surprise attack which drew the US into World War II. After some years of dramatic military success, Germany was defeated in 1945, having been invaded by the Soviet Union and Poland from the East and by the United States, the United Kingdom, Canada, and France from the West. After the victory of the Allies in Europe, the war in Asia ended with the Soviet invasion of Manchuria and the dropping of two atomic bombs on Japan by the US, the first nation to develop nuclear weapons and the only one to use them in warfare. In total, World War II left some 60 million people dead. After the war, Germany was occupied and divided between the Western powers and the Soviet Union. East Germany and the rest of Eastern Europe became Soviet puppet states under communist rule. Western Europe was rebuilt with the aid of the American Marshall Plan, resulting in a major post-war economic boom, and many of the affected nations became close allies of the United States.\n",
            "With the Axis defeated and Britain and France rebuilding, the United States and the Soviet Union were left standing as the world's only superpowers. Allies during the war, they soon became hostile to one another as their competing ideologies of communism and democratic capitalism proliferated in Europe, which became divided by the Iron Curtain and the Berlin Wall. They formed competing military alliances (NATO and the Warsaw Pact) which engaged in a decades-long standoff known as the Cold War. The period was marked by a new arms race as the USSR became the second nation to develop nuclear weapons, which were produced by both sides in sufficient numbers to end most human life on the planet had a large-scale nuclear exchange ever occurred. Mutually assured destruction is credited by many historians as having prevented such an exchange, each side being unable to strike first at the other without ensuring an equally devastating retaliatory strike. Unable to engage one another directly, the conflict played out in a series of proxy wars around the world—particularly in China, Korea, Cuba, Vietnam, and Afghanistan—as the USSR sought to export communism while the US attempted to contain it. The technological competition between the two sides led to substantial investment in research and development which produced innovations that reached far beyond the battlefield, such as space exploration and the Internet.\n",
            "In the latter half of the century, most of the European-colonized world in Africa and Asia gained independence in a process of decolonization. Meanwhile, globalization opened the door for several nations to exert a strong influence over many world affairs. The US's global military presence spread American culture around the world with the advent of the Hollywood motion picture industry, Broadway, rock and roll, pop music, fast food, big-box stores, and the hip-hop lifestyle. Britain also continued to influence world culture, including the \"British Invasion\" into American music, leading many rock bands from other countries (such as Swedish ABBA) to sing in English. After the Soviet Union collapsed under internal pressure in 1991, most of the communist governments it had supported around the world were dismantled—with the notable exceptions of China, North Korea, Cuba, Vietnam, and Laos—followed by awkward transitions into market economies.\n",
            "Following World War II, the United Nations, successor to the League of Nations, was established as an international forum in which the world's nations could discuss issues diplomatically. It enacted resolutions on such topics as the conduct of warfare, environmental protection, international sovereignty, and human rights. Peacekeeping forces consisting of troops provided by various countries, with various United Nations and other aid agencies, helped to relieve famine, disease, and poverty, and to suppress some local armed conflicts. Europe slowly united, economically and, in some ways, politically, to form the European Union, which consisted of 15 European countries by the end of the 20th century.\n",
            "Due to continuing industrialization and expanding trade, many significant changes of the century were, directly or indirectly, economic and technological in nature. Inventions such as the light bulb, the automobile, and the telephone in the late 19th century, followed by supertankers, airliners, motorways, radio, television, antibiotics, nuclear power, frozen food, computers and microcomputers, the Internet, and mobile telephones affected people's quality of life across the developed world. Scientific research, engineering professionalization and technological development—much of it motivated by the Cold War arms race—drove changes in everyday life.\n",
            "At the beginning of the century, strong discrimination based on race and sex was significant in most societies. Although the Atlantic slave trade had ended in the 19th century, movements for equality for non-white people in the white-dominated societies of North America, Europe, and South Africa continued. By the end of the 20th century, in many parts of the world, women had the same legal rights as men, and racism had come to be seen as unacceptable, often backed up by legislation.[14] Attitudes towards homosexuality also began to change in the later part of the century. When the Republic of India was constituted, the disadvantaged classes of the caste system in India became entitled to affirmative action benefits in education, employment and government.[15][16]\n",
            "Communications and information technology, transportation technology, and medical advances had radically altered daily lives. Europe appeared to be at a sustainable peace for the first time in recorded history. The people of the Indian subcontinent, a sixth of the world population at the end of the 20th century, had attained an indigenous independence for the first time in centuries. China, an ancient nation comprising a fifth of the world population, was finally open to the world, creating a new state after the near-complete destruction of the old cultural order. With the end of colonialism and the Cold War, nearly a billion people in Africa were left in new nation states after centuries of foreign domination.\n",
            "The world was undergoing its second major period of globalization; the first, which started in the 18th century, having been terminated by World War I. Since the US was in a dominant position, a major part of the process was Americanization. The influence of China and India was also rising, as the world's largest populations were rapidly integrating with the world economy.\n",
            "Terrorism, dictatorship, and the spread of nuclear weapons were pressing global issues. The world was still blighted by small-scale wars and other violent conflicts, fueled by competition over resources and by ethnic conflicts.\n",
            "Disease threatened to destabilize many regions of the world. New viruses such as the West Nile virus continued to spread. Malaria and other diseases affected large populations. Millions were infected with HIV, the virus which causes AIDS. The virus was becoming an epidemic in southern Africa.\n",
            "Based on research done by climate scientists, the majority of the scientific community consider that in the long term environmental problems may threaten the planet's habitability.[17] One argument is that of global warming occurring due to human-caused emission of greenhouse gases, particularly carbon dioxide produced by the burning of fossil fuels.[18] This prompted many nations to negotiate and sign the Kyoto treaty, which set mandatory limits on carbon dioxide emissions.\n",
            "World population increased from about 1.6 billion people in 1901 to 6.1 billion at the century's end.[19][20]\n",
            "The number of people killed during the century by government actions was in the hundreds of millions. This includes deaths caused by wars, genocide, politicide and mass murders. The deaths from acts of war during the two world wars alone have been estimated at between 50 and 80 million.[citation needed] Political scientist Rudolph Rummel estimated 262,000,000 deaths caused by democide, which excludes those killed in war battles, civilians unintentionally killed in war and killings of rioting mobs.[21] According to Charles Tilly, \"Altogether, about 100 million people died as a direct result of action by organized military units backed by one government or another over the course of the century. Most likely a comparable number of civilians died of war-induced disease and other indirect effects.\"[22] It is estimated that approximately 70 million Europeans died through war, violence and famine between 1914 and 1945.[23]\n",
            "The invention of music recording technologies such as the phonograph record, and dissemination technologies such as radio broadcasting, massively expanded the audience for music. Prior to the 20th century, music was generally only experienced in live performances. Many new genres of music were established during the 20th century.\n",
            "Film as an artistic medium was created in the 20th century. The first modern movie theatre was established in Pittsburgh in 1905.[29] Hollywood developed as the center of American film production. While the first films were in black and white, technicolor was developed in the 1920s to allow for color films. Sound films were developed, with the first full-length feature film, The Jazz Singer, released in 1927. The Academy Awards were established in 1929. Animation was also developed in the 1920s, with the first full-length cel animated feature film Snow White and the Seven Dwarfs, released in 1937. Computer-generated imagery was developed in the 1980s, with the first full-length CGI-animated film Toy Story was released in 1995.\n",
            "Video games—due to the great technological steps forward in computing since the second post-war period—are the new form of entertainment emerged in the 20th century alongside films.\n",
            "Multiple new fields of mathematics were developed in the 20th century. In the first part of the 20th century, measure theory, functional analysis, and topology were established, and significant developments were made in fields such as abstract algebra and probability. The development of set theory and formal logic led to Gödel's incompleteness theorems.\n",
            "Later in the 20th century, the development of computers led to the establishment of a theory of computation.[33] Other computationally-intense results include the study of fractals[34] and a proof of the four color theorem in 1976.[35]\n",
            "One of the prominent traits of the 20th century was the dramatic growth of technology. Organized research and practice of science led to advancement in the fields of communication, electronics, engineering, travel, medicine, and war.\n",
            "A technological revolution began in the late 20th century, variously called the Digital Revolution, the information revolution,[40][41][42] the electronics revolution,[43] the microelectronic revolution,[44] the Information Age,[45] the silicon revolution,[46][47] the Silicon Age,[46][47][48] and/or the third industrial revolution.[49]\n",
            "\n"
          ]
        }
      ]
    },
    {
      "cell_type": "markdown",
      "metadata": {
        "id": "goHlWwmTDQJD"
      },
      "source": [
        "**Step 2: Processing the data**"
      ]
    },
    {
      "cell_type": "markdown",
      "source": [
        "เตรียมข้อมูลเพื่อสร้างdictionaryที่รวมคำที่สำคัญและคะแนนของคำนั้นๆ"
      ],
      "metadata": {
        "id": "2ZV2GRj6SCSl"
      }
    },
    {
      "cell_type": "code",
      "metadata": {
        "id": "wAAoeUflAPC9",
        "colab": {
          "base_uri": "https://localhost:8080/"
        },
        "outputId": "48ad9691-2443-432d-f8dd-653d6af17629"
      },
      "source": [
        "import nltk\n",
        "nltk.download('punkt')\n",
        "nltk.download('stopwords')\n",
        "from nltk.tokenize import word_tokenize\n",
        "from nltk.corpus import stopwords\n",
        "from nltk.stem import PorterStemmer\n",
        "\n",
        "def _create_dictionary_table(text_string) -> dict:\n",
        "   \n",
        "    # Removing stop words\n",
        "    stop_words = set(stopwords.words(\"english\"))\n",
        "    \n",
        "    #split into tokens or words\n",
        "    words = word_tokenize(text_string)\n",
        "    \n",
        "    # Reducing words to their root form\n",
        "    stem = PorterStemmer()\n",
        "    \n",
        "    # Creating dictionary for the word frequency table\n",
        "    frequency_table = dict()\n",
        "    for wd in words:\n",
        "        wd = stem.stem(wd)\n",
        "        if wd in stop_words:\n",
        "            continue\n",
        "        if wd in frequency_table:\n",
        "            frequency_table[wd] += 1\n",
        "        else:\n",
        "            frequency_table[wd] = 1\n",
        "\n",
        "    return frequency_table"
      ],
      "execution_count": null,
      "outputs": [
        {
          "output_type": "stream",
          "name": "stdout",
          "text": [
            "[nltk_data] Downloading package punkt to /root/nltk_data...\n",
            "[nltk_data]   Unzipping tokenizers/punkt.zip.\n",
            "[nltk_data] Downloading package stopwords to /root/nltk_data...\n",
            "[nltk_data]   Unzipping corpora/stopwords.zip.\n"
          ]
        }
      ]
    },
    {
      "cell_type": "code",
      "source": [
        "def check_max_frequency(frequency_table) -> int:\n",
        "  max_frequency = 0\n",
        "  for wd in frequency_table:\n",
        "    if frequency_table[wd] > max_frequency:\n",
        "      max_frequency = frequency_table[wd]\n",
        "    \n",
        "  return max_frequency"
      ],
      "metadata": {
        "id": "Od_FpSs1agdy"
      },
      "execution_count": null,
      "outputs": []
    },
    {
      "cell_type": "code",
      "source": [
        "def _create_weight_dictionary_table(text_string, max_frequency) -> dict:\n",
        "  # Removing stop words\n",
        "    stop_words = set(stopwords.words(\"english\"))\n",
        "    \n",
        "    #split into tokens or words\n",
        "    words = word_tokenize(text_string)\n",
        "    \n",
        "    # Reducing words to their root form\n",
        "    stem = PorterStemmer()\n",
        "    \n",
        "    # Creating dictionary for the word frequency table\n",
        "    frequency_table = dict()\n",
        "    for wd in words:\n",
        "        wd = stem.stem(wd)\n",
        "        if wd in stop_words:\n",
        "            continue\n",
        "        if wd in frequency_table:\n",
        "            frequency_table[wd] += 1 / max_frequency\n",
        "        else:\n",
        "            frequency_table[wd] = 1 / max_frequency\n",
        "\n",
        "    return frequency_table"
      ],
      "metadata": {
        "id": "9KsK9-iJakjm"
      },
      "execution_count": null,
      "outputs": []
    },
    {
      "cell_type": "code",
      "metadata": {
        "id": "fcNhN--B2uzq",
        "colab": {
          "base_uri": "https://localhost:8080/"
        },
        "outputId": "72eecd0d-1c31-43e5-9b0b-e91d42682e20"
      },
      "source": [
        "print(stopwords.words(\"english\"))"
      ],
      "execution_count": null,
      "outputs": [
        {
          "output_type": "stream",
          "name": "stdout",
          "text": [
            "['i', 'me', 'my', 'myself', 'we', 'our', 'ours', 'ourselves', 'you', \"you're\", \"you've\", \"you'll\", \"you'd\", 'your', 'yours', 'yourself', 'yourselves', 'he', 'him', 'his', 'himself', 'she', \"she's\", 'her', 'hers', 'herself', 'it', \"it's\", 'its', 'itself', 'they', 'them', 'their', 'theirs', 'themselves', 'what', 'which', 'who', 'whom', 'this', 'that', \"that'll\", 'these', 'those', 'am', 'is', 'are', 'was', 'were', 'be', 'been', 'being', 'have', 'has', 'had', 'having', 'do', 'does', 'did', 'doing', 'a', 'an', 'the', 'and', 'but', 'if', 'or', 'because', 'as', 'until', 'while', 'of', 'at', 'by', 'for', 'with', 'about', 'against', 'between', 'into', 'through', 'during', 'before', 'after', 'above', 'below', 'to', 'from', 'up', 'down', 'in', 'out', 'on', 'off', 'over', 'under', 'again', 'further', 'then', 'once', 'here', 'there', 'when', 'where', 'why', 'how', 'all', 'any', 'both', 'each', 'few', 'more', 'most', 'other', 'some', 'such', 'no', 'nor', 'not', 'only', 'own', 'same', 'so', 'than', 'too', 'very', 's', 't', 'can', 'will', 'just', 'don', \"don't\", 'should', \"should've\", 'now', 'd', 'll', 'm', 'o', 're', 've', 'y', 'ain', 'aren', \"aren't\", 'couldn', \"couldn't\", 'didn', \"didn't\", 'doesn', \"doesn't\", 'hadn', \"hadn't\", 'hasn', \"hasn't\", 'haven', \"haven't\", 'isn', \"isn't\", 'ma', 'mightn', \"mightn't\", 'mustn', \"mustn't\", 'needn', \"needn't\", 'shan', \"shan't\", 'shouldn', \"shouldn't\", 'wasn', \"wasn't\", 'weren', \"weren't\", 'won', \"won't\", 'wouldn', \"wouldn't\"]\n"
          ]
        }
      ]
    },
    {
      "cell_type": "code",
      "metadata": {
        "id": "_vWsOHAnAmhP",
        "colab": {
          "base_uri": "https://localhost:8080/"
        },
        "outputId": "006e8301-4f2e-4a81-d71f-58d5f72d578c"
      },
      "source": [
        "stem = PorterStemmer()\n",
        "examples = ['wants', 'hated', 'eating', 'died', 'see', 'went', 'dying']\n",
        "stem_examples = [stem.stem(example) for example in examples]\n",
        "print(stem_examples)"
      ],
      "execution_count": null,
      "outputs": [
        {
          "output_type": "stream",
          "name": "stdout",
          "text": [
            "['want', 'hate', 'eat', 'die', 'see', 'went', 'die']\n"
          ]
        }
      ]
    },
    {
      "cell_type": "code",
      "metadata": {
        "cellView": "code",
        "id": "DqQCpodCN0Br"
      },
      "source": [
        "frequency_table = _create_dictionary_table(article_content)"
      ],
      "execution_count": null,
      "outputs": []
    },
    {
      "cell_type": "code",
      "metadata": {
        "id": "L_CHtxpJN_Es",
        "colab": {
          "base_uri": "https://localhost:8080/"
        },
        "outputId": "63c8d561-2df7-49b1-d4ff-90d4ef5ba881"
      },
      "source": [
        "print(frequency_table)"
      ],
      "execution_count": null,
      "outputs": [
        {
          "output_type": "stream",
          "name": "stdout",
          "text": [
            "{'20th': 20, '(': 12, 'twentieth': 2, ')': 12, 'centuri': 45, 'began': 4, 'januari': 3, '1': 6, ',': 248, '1901': 3, 'mcmi': 1, 'end': 15, 'decemb': 3, '31': 3, '2000': 3, 'MM': 1, '.': 127, '[': 41, ']': 41, 'wa': 35, 'domin': 3, 'signific': 4, 'event': 1, 'defin': 1, 'modern': 3, 'era': 1, ':': 2, 'spanish': 1, 'flu': 1, 'pandem': 1, 'world': 48, 'war': 39, 'I': 4, 'II': 8, 'nuclear': 10, 'weapon': 6, 'power': 12, 'space': 4, 'explor': 3, 'nation': 17, 'decolon': 3, 'technolog': 21, 'advanc': 8, 'cold': 5, 'post-cold': 1, 'conflict': 8, 'reshap': 1, 'polit': 5, 'social': 1, 'structur': 1, 'globe': 1, 'saw': 2, 'massiv': 2, 'transform': 2, 'human': 10, \"'s\": 21, 'relationship': 1, 'natur': 3, 'global': 17, 'popul': 12, 'sea': 1, 'level': 2, 'rise': 3, 'ecolog': 2, 'collaps': 3, 'increas': 4, 'competit': 3, 'land': 1, 'dwindl': 1, 'resourc': 3, 'acceler': 2, 'deforest': 1, 'water': 1, 'deplet': 1, 'mass': 3, 'extinct': 2, 'mani': 13, 'speci': 1, 'declin': 2, 'man-mad': 1, 'warm': 2, 'risk': 1, 'extrem': 1, 'weather': 1, 'condit': 1, 'addit': 2, 'theme': 1, 'includ': 4, 'intergovernment': 1, 'organ': 4, 'cultur': 7, 'homogen': 2, 'develop': 16, 'emerg': 3, 'transport': 4, 'commun': 10, ';': 7, 'poverti': 2, 'reduct': 1, 'growth': 2, 'awar': 1, 'environment': 4, 'degrad': 1, '2': 2, '3': 1, 'birth': 2, 'digit': 2, 'revolut': 9, 'automobil': 4, 'airplan': 1, 'use': 5, 'home': 1, 'applianc': 1, 'becam': 9, 'common': 2, 'video': 2, 'audio': 1, 'record': 4, 'great': 3, 'gener': 2, 'medic': 4, 'allow': 4, 'near-instantan': 1, 'worldwid': 1, 'comput': 6, 'genet': 1, 'modif': 1, 'life': 6, 'repercuss': 1, 'craft': 1, 'peopl': 14, 'unit': 13, 'ani': 1, 'previou': 1, 'time': 9, 'histori': 5, 'exemplifi': 1, 'establish': 8, 'intern': 8, 'law': 2, 'aid': 4, 'marshal': 2, 'plan—which': 1, 'spent': 1, '$': 2, '13': 2, 'billion': 8, '100': 2, '2019': 1, 'u.s.': 1, 'dollar': 1, '4': 1, 'rebuild': 2, 'economi': 4, 'post-war': 4, 'nations—launch': 1, '``': 5, 'pax': 1, 'americana': 1, \"''\": 3, 'throughout': 1, 'latter': 2, 'half': 4, 'rivalri': 1, 'state': 11, 'soviet': 9, 'union': 8, 'creat': 3, 'enorm': 1, 'tension': 1, 'around': 4, 'manifest': 1, 'variou': 3, 'arm': 4, 'proxi': 2, 'region': 3, 'omnipres': 1, 'danger': 1, 'prolifer': 2, 'dissolut': 1, '1991': 2, 'european': 4, 'allianc': 2, 'herald': 1, 'west': 3, 'though': 1, 'roughli': 1, 'one': 7, 'six': 1, 'earth': 1, 'live': 4, 'communist': 4, 'rule': 2, 'mostli': 1, 'china': 5, 'rapidli': 3, 'econom': 6, 'geopolit': 1, 'It': 5, 'took': 1, 'two': 4, 'hundr': 2, 'thousand': 2, 'year': 13, '6': 3, 'million': 9, 'evolut': 1, 'reach': 5, '1804': 1, '5': 1, 'estim': 4, '1927': 2, 'late': 3, '1999': 2, 'east': 4, 'south': 2, 'southeast': 1, 'asia': 4, '7': 1, '8': 1, 'literaci': 1, 'averag': 1, '80': 2, '%': 1, 'penicillin': 1, 'breakthrough': 1, 'combin': 3, 'health': 2, 'campaign': 1, 'erad': 1, 'smallpox': 2, 'diseas': 5, 'respons': 1, 'death': 4, 'disast': 1, 'yield': 1, 'unpreced': 3, 'result': 7, 'onli': 4, 'exist': 1, 'lab': 1, 'citat': 2, 'need': 2, 'machin': 1, 'came': 1, 'area': 1, 'product': 2, 'feed': 1, 'increasingli': 1, 'intric': 1, 'suppli': 1, 'chain': 1, 'mankind': 1, 'first': 18, 'constrain': 1, 'much': 1, 'could': 2, 'produc': 4, \"'\": 1, 'willing': 1, 'consum': 1, 'trade': 3, 'improv': 2, 'greatli': 1, 'expand': 3, 'upon': 1, 'limit': 2, 'set': 3, 'food-produc': 1, 'techniqu': 1, 'sinc': 5, 'neolith': 1, 'period': 4, 'multipli': 1, 'divers': 1, 'food': 3, 'avail': 2, 'boost': 1, 'qualiti': 2, 'nutrit': 1, 'earli': 1, '19th': 4, 'expect': 2, 'thirti': 1, 'lifespan-averag': 1, 'exceed': 1, '40': 2, 'achiev': 1, '70': 2, 'three': 1, 'decad': 2, 'longer': 1, 'earlier': 1, '9': 1, '10': 1, 'term': 3, 'often': 2, 'erron': 1, 'refer': 1, '1900': 2, 'tenth': 1, 'final': 2, '2nd': 1, 'millennium': 1, 'unlik': 1, 'leap': 2, 'second': 4, 'gregorian': 1, 'calendar': 1, '1600': 1, 'global-scal': 1, 'total': 2, 'across': 2, 'contin': 1, 'ocean': 2, 'major': 7, 'issu': 3, 'acknowledg': 1, 'along': 2, 'right': 3, 'self-determin': 1, 'offici': 1, 'mid-centuri': 1, 'relat': 1, 'shift': 1, 'way': 3, 'chang': 6, 'ideolog': 3, 'societi': 4, 'scienc': 3, 'medicin': 2, 'may': 2, 'seen': 3, 'scientif': 5, 'progress': 1, 'dawn': 1, 'civil': 2, 'like': 2, 'genocid': 2, 'enter': 1, 'usag': 1, 'discoveri': 1, 'theori': 4, 'rel': 1, 'quantum': 1, 'physic': 2, 'profoundli': 1, 'foundat': 1, 'model': 1, 'forc': 2, 'scientist': 3, 'realiz': 1, 'univers': 1, 'complex': 1, 'previous': 1, 'believ': 1, 'dash': 1, 'hope': 1, 'fear': 1, 'last': 2, 'detail': 1, 'knowledg': 2, 'fill': 1, 'start': 2, 'hors': 2, 'simpl': 1, 'freighter': 1, 'high-spe': 1, 'rail': 1, 'cruis': 1, 'ship': 1, 'commerci': 1, 'air': 1, 'travel': 2, 'shuttl': 1, 'pack': 1, 'anim': 3, 'everi': 1, 'basic': 1, 'form': 7, 'person': 1, 'replac': 2, 'buse': 1, 'within': 1, 'made': 3, 'possibl': 1, 'exploit': 1, 'fossil': 2, 'fuel': 3, 'offer': 1, 'energi': 1, 'easili': 1, 'portabl': 1, 'also': 8, 'caus': 4, 'concern': 1, 'pollut': 1, 'long-term': 1, 'impact': 1, 'environ': 1, 'take': 1, 'footstep': 1, 'moon': 1, 'media': 1, 'telecommun': 1, 'inform': 4, 'especi': 1, 'paperback': 1, 'book': 1, 'public': 1, 'educ': 2, 'internet': 3, 'wide': 1, '35': 2, '65': 1, 'rapid': 1, 'howev': 2, 'warfar': 4, 'destruct': 4, 'alon': 2, 'kill': 5, '60': 2, 'gave': 1, 'humankind': 1, 'mean': 1, 'annihil': 1, 'short': 1, 'imperi': 1, 'system': 2, 'empir': 4, 'expans': 2, 'colon': 1, 'ceas': 1, 'factor': 1, 'affair': 2, 'far': 2, 'cooper': 1, 'clash': 1, 'openli': 1, '1945': 3, 'violenc': 2, 'ha': 1, '11': 1, 'ever': 2, 'popular': 1, 'music': 7, 'influenc': 4, 'western': 4, 'corpor': 1, 'arguabl': 1, 'truli': 1, 'dure': 6, 'fought': 1, 'new': 8, 'invent': 3, 'tank': 1, 'chemic': 1, 'aircraft': 1, 'modifi': 1, 'tactic': 1, 'strategi': 1, 'four': 2, 'trench': 1, 'europ': 8, '20': 2, 'dead': 2, 'tripl': 2, 'entent': 2, 'franc': 3, 'britain': 3, 'russia': 1, 'later': 3, 'join': 1, 'itali': 3, 'romania': 1, 'victori': 3, 'central': 1, 'germani': 8, 'austria-hungari': 1, 'ottoman': 2, 'bulgaria': 1, 'In': 4, 'annex': 1, 'coloni': 2, 'possess': 1, 'vanquish': 1, 'exact': 1, 'punit': 1, 'restitut': 1, 'payment': 1, 'plung': 1, 'particular': 1, 'depress': 2, 'austro-hungarian': 1, 'dismantl': 1, 'conclus': 1, 'russian': 2, 'overthrow': 1, 'tsarist': 1, 'regim': 1, 'nichola': 1, 'onset': 1, 'bolshevik': 1, 'At': 2, 'begin': 2, 'british': 2, 'act': 2, 'policeman': 1, 'past': 1, 'fascism': 1, 'movement': 2, 'grew': 1, 'angst': 1, '1930': 2, 'gain': 2, 'momentum': 1, 'spain': 1, '1920': 3, 'culmin': 2, 'spark': 1, 'nazi': 1, 'aggress': 1, 'expens': 1, 'neighbor': 1, 'meanwhil': 2, 'japan': 3, 'industri': 4, 'axi': 2, 'militari': 5, 'expansion': 1, 'pacif': 1, 'brought': 1, 'surpris': 1, 'attack': 1, 'drew': 1, 'US': 5, 'dramat': 2, 'success': 1, 'defeat': 2, 'invad': 1, 'poland': 1, 'kingdom': 1, 'canada': 1, 'alli': 3, 'invas': 2, 'manchuria': 1, 'drop': 1, 'atom': 1, 'bomb': 1, 'left': 3, 'occupi': 1, 'divid': 2, 'rest': 1, 'eastern': 1, 'puppet': 1, 'rebuilt': 1, 'american': 5, 'plan': 1, 'boom': 1, 'affect': 3, 'close': 1, 'stand': 1, 'superpow': 1, 'soon': 1, 'hostil': 1, 'anoth': 3, 'compet': 2, 'democrat': 1, 'capit': 1, 'iron': 1, 'curtain': 1, 'berlin': 1, 'wall': 1, 'nato': 1, 'warsaw': 1, 'pact': 1, 'engag': 2, 'decades-long': 1, 'standoff': 1, 'known': 1, 'mark': 1, 'race': 2, 'ussr': 2, 'side': 3, 'suffici': 1, 'number': 3, 'planet': 2, 'large-scal': 1, 'exchang': 2, 'occur': 2, 'mutual': 1, 'assur': 1, 'credit': 1, 'historian': 1, 'prevent': 1, 'unabl': 2, 'strike': 2, 'without': 1, 'ensur': 1, 'equal': 2, 'devast': 1, 'retaliatori': 1, 'directli': 2, 'play': 1, 'seri': 1, 'world—particularli': 1, 'korea': 2, 'cuba': 2, 'vietnam': 2, 'afghanistan—a': 1, 'sought': 1, 'export': 1, 'attempt': 1, 'contain': 1, 'led': 4, 'substanti': 1, 'invest': 1, 'research': 4, 'innov': 1, 'beyond': 1, 'battlefield': 1, 'european-colon': 1, 'africa': 4, 'independ': 2, 'process': 2, 'open': 2, 'door': 1, 'sever': 1, 'exert': 1, 'strong': 2, 'presenc': 1, 'spread': 3, 'advent': 1, 'hollywood': 2, 'motion': 1, 'pictur': 1, 'broadway': 1, 'rock': 2, 'roll': 1, 'pop': 1, 'fast': 1, 'big-box': 1, 'store': 1, 'hip-hop': 1, 'lifestyl': 1, 'continu': 4, 'lead': 1, 'band': 1, 'countri': 3, 'swedish': 1, 'abba': 1, 'sing': 1, 'english': 1, 'pressur': 1, 'govern': 4, 'support': 1, 'dismantled—with': 1, 'notabl': 1, 'except': 1, 'north': 2, 'laos—follow': 1, 'awkward': 1, 'transit': 1, 'market': 1, 'follow': 2, 'successor': 1, 'leagu': 1, 'forum': 1, 'discuss': 1, 'diplomat': 1, 'enact': 1, 'resolut': 1, 'topic': 1, 'conduct': 1, 'protect': 1, 'sovereignti': 1, 'peacekeep': 1, 'consist': 2, 'troop': 1, 'provid': 1, 'agenc': 1, 'help': 1, 'reliev': 1, 'famin': 2, 'suppress': 1, 'local': 1, 'slowli': 1, '15': 2, 'due': 2, 'indirectli': 1, 'light': 1, 'bulb': 1, 'telephon': 2, 'supertank': 1, 'airlin': 1, 'motorway': 1, 'radio': 2, 'televis': 1, 'antibiot': 1, 'frozen': 1, 'microcomput': 1, 'mobil': 1, 'engin': 2, 'profession': 1, 'development—much': 1, 'motiv': 1, 'race—drov': 1, 'everyday': 1, 'discrimin': 1, 'base': 2, 'sex': 1, 'although': 1, 'atlant': 1, 'slave': 1, 'non-whit': 1, 'white-domin': 1, 'america': 1, 'By': 1, 'part': 4, 'women': 1, 'legal': 1, 'men': 1, 'racism': 1, 'come': 1, 'unaccept': 1, 'back': 2, 'legisl': 1, '14': 1, 'attitud': 1, 'toward': 1, 'homosexu': 1, 'republ': 1, 'india': 3, 'constitut': 1, 'disadvantag': 1, 'class': 1, 'cast': 1, 'entitl': 1, 'affirm': 1, 'action': 3, 'benefit': 1, 'employ': 1, '16': 1, 'radic': 1, 'alter': 1, 'daili': 1, 'appear': 1, 'sustain': 1, 'peac': 1, 'indian': 1, 'subcontin': 1, 'sixth': 1, 'attain': 1, 'indigen': 1, 'ancient': 1, 'compris': 1, 'fifth': 1, 'near-complet': 1, 'old': 1, 'order': 1, 'nearli': 1, 'foreign': 1, 'undergo': 1, '18th': 1, 'termin': 1, 'posit': 1, 'largest': 1, 'integr': 1, 'terror': 1, 'dictatorship': 1, 'press': 1, 'still': 1, 'blight': 1, 'small-scal': 1, 'violent': 1, 'ethnic': 1, 'threaten': 2, 'destabil': 1, 'virus': 1, 'nile': 1, 'viru': 3, 'malaria': 1, 'larg': 1, 'infect': 1, 'hiv': 1, 'becom': 1, 'epidem': 1, 'southern': 1, 'done': 1, 'climat': 1, 'consid': 1, 'long': 1, 'problem': 1, 'habit': 1, '17': 1, 'argument': 1, 'human-caus': 1, 'emiss': 2, 'greenhous': 1, 'gase': 1, 'particularli': 1, 'carbon': 2, 'dioxid': 2, 'burn': 1, '18': 1, 'thi': 2, 'prompt': 1, 'negoti': 1, 'sign': 1, 'kyoto': 1, 'treati': 1, 'mandatori': 1, '1.6': 1, '6.1': 1, '19': 1, 'politicid': 1, 'murder': 1, '50': 1, 'rudolph': 1, 'rummel': 1, '262,000,000': 1, 'democid': 1, 'exclud': 1, 'battl': 1, 'civilian': 2, 'unintent': 1, 'riot': 1, 'mob': 1, '21': 1, 'accord': 1, 'charl': 1, 'tilli': 1, 'altogeth': 1, 'die': 3, 'direct': 1, 'cours': 1, 'compar': 1, 'war-induc': 1, 'indirect': 1, 'effect': 1, '22': 1, 'approxim': 1, '1914': 1, '23': 1, 'phonograph': 1, 'dissemin': 1, 'broadcast': 1, 'audienc': 1, 'prior': 1, 'experienc': 1, 'perform': 1, 'genr': 1, 'film': 9, 'artist': 1, 'medium': 1, 'movi': 1, 'theatr': 1, 'pittsburgh': 1, '1905': 1, '29': 1, 'center': 1, 'black': 1, 'white': 2, 'technicolor': 1, 'color': 2, 'sound': 1, 'full-length': 3, 'featur': 2, 'jazz': 1, 'singer': 1, 'releas': 3, 'academi': 1, 'award': 1, '1929': 1, 'cel': 1, 'snow': 1, 'seven': 1, 'dwarf': 1, '1937': 1, 'computer-gener': 1, 'imageri': 1, '1980': 1, 'cgi-anim': 1, 'toy': 1, 'stori': 1, '1995': 1, 'games—du': 1, 'step': 1, 'forward': 1, 'period—ar': 1, 'entertain': 1, 'alongsid': 1, 'multipl': 1, 'field': 3, 'mathemat': 1, 'measur': 1, 'function': 1, 'analysi': 1, 'topolog': 1, 'abstract': 1, 'algebra': 1, 'probabl': 1, 'formal': 1, 'logic': 1, 'gödel': 1, 'incomplet': 1, 'theorem': 2, '33': 1, 'computationally-intens': 1, 'studi': 1, 'fractal': 1, '34': 1, 'proof': 1, '1976': 1, 'promin': 1, 'trait': 1, 'practic': 1, 'electron': 2, 'A': 1, 'various': 1, 'call': 1, '41': 1, '42': 1, '43': 1, 'microelectron': 1, '44': 1, 'age': 2, '45': 1, 'silicon': 2, '46': 2, '47': 2, '48': 1, 'and/or': 1, 'third': 1, '49': 1}\n"
          ]
        }
      ]
    },
    {
      "cell_type": "code",
      "source": [
        "max_frequency = check_max_frequency(frequency_table)\n",
        "print(max_frequency)"
      ],
      "metadata": {
        "id": "zM6tPDc0apHj",
        "colab": {
          "base_uri": "https://localhost:8080/"
        },
        "outputId": "6528bc37-de7e-4cc0-c31a-d9adfa80fd68"
      },
      "execution_count": null,
      "outputs": [
        {
          "output_type": "stream",
          "name": "stdout",
          "text": [
            "248\n"
          ]
        }
      ]
    },
    {
      "cell_type": "code",
      "source": [
        "weight_frequency_table = _create_weight_dictionary_table(article_content, max_frequency)\n",
        "print(weight_frequency_table)"
      ],
      "metadata": {
        "id": "el2Fo32Gaqll",
        "colab": {
          "base_uri": "https://localhost:8080/"
        },
        "outputId": "19a48699-4d0b-4740-d664-6aab60f0eefc"
      },
      "execution_count": null,
      "outputs": [
        {
          "output_type": "stream",
          "name": "stdout",
          "text": [
            "{'20th': 0.08064516129032254, '(': 0.04838709677419353, 'twentieth': 0.008064516129032258, ')': 0.04838709677419353, 'centuri': 0.18145161290322567, 'began': 0.016129032258064516, 'januari': 0.012096774193548387, '1': 0.024193548387096774, ',': 0.9999999999999992, '1901': 0.012096774193548387, 'mcmi': 0.004032258064516129, 'end': 0.06048387096774191, 'decemb': 0.012096774193548387, '31': 0.012096774193548387, '2000': 0.012096774193548387, 'MM': 0.004032258064516129, '.': 0.512096774193548, '[': 0.16532258064516117, ']': 0.16532258064516117, 'wa': 0.14112903225806442, 'domin': 0.012096774193548387, 'signific': 0.016129032258064516, 'event': 0.004032258064516129, 'defin': 0.004032258064516129, 'modern': 0.012096774193548387, 'era': 0.004032258064516129, ':': 0.008064516129032258, 'spanish': 0.004032258064516129, 'flu': 0.004032258064516129, 'pandem': 0.004032258064516129, 'world': 0.19354838709677405, 'war': 0.15725806451612892, 'I': 0.016129032258064516, 'II': 0.03225806451612903, 'nuclear': 0.04032258064516128, 'weapon': 0.024193548387096774, 'power': 0.04838709677419353, 'space': 0.016129032258064516, 'explor': 0.012096774193548387, 'nation': 0.06854838709677416, 'decolon': 0.012096774193548387, 'technolog': 0.08467741935483866, 'advanc': 0.03225806451612903, 'cold': 0.020161290322580645, 'post-cold': 0.004032258064516129, 'conflict': 0.03225806451612903, 'reshap': 0.004032258064516129, 'polit': 0.020161290322580645, 'social': 0.004032258064516129, 'structur': 0.004032258064516129, 'globe': 0.004032258064516129, 'saw': 0.008064516129032258, 'massiv': 0.008064516129032258, 'transform': 0.008064516129032258, 'human': 0.04032258064516128, \"'s\": 0.08467741935483866, 'relationship': 0.004032258064516129, 'natur': 0.012096774193548387, 'global': 0.06854838709677416, 'popul': 0.04838709677419353, 'sea': 0.004032258064516129, 'level': 0.008064516129032258, 'rise': 0.012096774193548387, 'ecolog': 0.008064516129032258, 'collaps': 0.012096774193548387, 'increas': 0.016129032258064516, 'competit': 0.012096774193548387, 'land': 0.004032258064516129, 'dwindl': 0.004032258064516129, 'resourc': 0.012096774193548387, 'acceler': 0.008064516129032258, 'deforest': 0.004032258064516129, 'water': 0.004032258064516129, 'deplet': 0.004032258064516129, 'mass': 0.012096774193548387, 'extinct': 0.008064516129032258, 'mani': 0.05241935483870966, 'speci': 0.004032258064516129, 'declin': 0.008064516129032258, 'man-mad': 0.004032258064516129, 'warm': 0.008064516129032258, 'risk': 0.004032258064516129, 'extrem': 0.004032258064516129, 'weather': 0.004032258064516129, 'condit': 0.004032258064516129, 'addit': 0.008064516129032258, 'theme': 0.004032258064516129, 'includ': 0.016129032258064516, 'intergovernment': 0.004032258064516129, 'organ': 0.016129032258064516, 'cultur': 0.028225806451612902, 'homogen': 0.008064516129032258, 'develop': 0.06451612903225803, 'emerg': 0.012096774193548387, 'transport': 0.016129032258064516, 'commun': 0.04032258064516128, ';': 0.028225806451612902, 'poverti': 0.008064516129032258, 'reduct': 0.004032258064516129, 'growth': 0.008064516129032258, 'awar': 0.004032258064516129, 'environment': 0.016129032258064516, 'degrad': 0.004032258064516129, '2': 0.008064516129032258, '3': 0.004032258064516129, 'birth': 0.008064516129032258, 'digit': 0.008064516129032258, 'revolut': 0.03629032258064516, 'automobil': 0.016129032258064516, 'airplan': 0.004032258064516129, 'use': 0.020161290322580645, 'home': 0.004032258064516129, 'applianc': 0.004032258064516129, 'becam': 0.03629032258064516, 'common': 0.008064516129032258, 'video': 0.008064516129032258, 'audio': 0.004032258064516129, 'record': 0.016129032258064516, 'great': 0.012096774193548387, 'gener': 0.008064516129032258, 'medic': 0.016129032258064516, 'allow': 0.016129032258064516, 'near-instantan': 0.004032258064516129, 'worldwid': 0.004032258064516129, 'comput': 0.024193548387096774, 'genet': 0.004032258064516129, 'modif': 0.004032258064516129, 'life': 0.024193548387096774, 'repercuss': 0.004032258064516129, 'craft': 0.004032258064516129, 'peopl': 0.056451612903225784, 'unit': 0.05241935483870966, 'ani': 0.004032258064516129, 'previou': 0.004032258064516129, 'time': 0.03629032258064516, 'histori': 0.020161290322580645, 'exemplifi': 0.004032258064516129, 'establish': 0.03225806451612903, 'intern': 0.03225806451612903, 'law': 0.008064516129032258, 'aid': 0.016129032258064516, 'marshal': 0.008064516129032258, 'plan—which': 0.004032258064516129, 'spent': 0.004032258064516129, '$': 0.008064516129032258, '13': 0.008064516129032258, 'billion': 0.03225806451612903, '100': 0.008064516129032258, '2019': 0.004032258064516129, 'u.s.': 0.004032258064516129, 'dollar': 0.004032258064516129, '4': 0.004032258064516129, 'rebuild': 0.008064516129032258, 'economi': 0.016129032258064516, 'post-war': 0.016129032258064516, 'nations—launch': 0.004032258064516129, '``': 0.020161290322580645, 'pax': 0.004032258064516129, 'americana': 0.004032258064516129, \"''\": 0.012096774193548387, 'throughout': 0.004032258064516129, 'latter': 0.008064516129032258, 'half': 0.016129032258064516, 'rivalri': 0.004032258064516129, 'state': 0.04435483870967741, 'soviet': 0.03629032258064516, 'union': 0.03225806451612903, 'creat': 0.012096774193548387, 'enorm': 0.004032258064516129, 'tension': 0.004032258064516129, 'around': 0.016129032258064516, 'manifest': 0.004032258064516129, 'variou': 0.012096774193548387, 'arm': 0.016129032258064516, 'proxi': 0.008064516129032258, 'region': 0.012096774193548387, 'omnipres': 0.004032258064516129, 'danger': 0.004032258064516129, 'prolifer': 0.008064516129032258, 'dissolut': 0.004032258064516129, '1991': 0.008064516129032258, 'european': 0.016129032258064516, 'allianc': 0.008064516129032258, 'herald': 0.004032258064516129, 'west': 0.012096774193548387, 'though': 0.004032258064516129, 'roughli': 0.004032258064516129, 'one': 0.028225806451612902, 'six': 0.004032258064516129, 'earth': 0.004032258064516129, 'live': 0.016129032258064516, 'communist': 0.016129032258064516, 'rule': 0.008064516129032258, 'mostli': 0.004032258064516129, 'china': 0.020161290322580645, 'rapidli': 0.012096774193548387, 'econom': 0.024193548387096774, 'geopolit': 0.004032258064516129, 'It': 0.020161290322580645, 'took': 0.004032258064516129, 'two': 0.016129032258064516, 'hundr': 0.008064516129032258, 'thousand': 0.008064516129032258, 'year': 0.05241935483870966, '6': 0.012096774193548387, 'million': 0.03629032258064516, 'evolut': 0.004032258064516129, 'reach': 0.020161290322580645, '1804': 0.004032258064516129, '5': 0.004032258064516129, 'estim': 0.016129032258064516, '1927': 0.008064516129032258, 'late': 0.012096774193548387, '1999': 0.008064516129032258, 'east': 0.016129032258064516, 'south': 0.008064516129032258, 'southeast': 0.004032258064516129, 'asia': 0.016129032258064516, '7': 0.004032258064516129, '8': 0.004032258064516129, 'literaci': 0.004032258064516129, 'averag': 0.004032258064516129, '80': 0.008064516129032258, '%': 0.004032258064516129, 'penicillin': 0.004032258064516129, 'breakthrough': 0.004032258064516129, 'combin': 0.012096774193548387, 'health': 0.008064516129032258, 'campaign': 0.004032258064516129, 'erad': 0.004032258064516129, 'smallpox': 0.008064516129032258, 'diseas': 0.020161290322580645, 'respons': 0.004032258064516129, 'death': 0.016129032258064516, 'disast': 0.004032258064516129, 'yield': 0.004032258064516129, 'unpreced': 0.012096774193548387, 'result': 0.028225806451612902, 'onli': 0.016129032258064516, 'exist': 0.004032258064516129, 'lab': 0.004032258064516129, 'citat': 0.008064516129032258, 'need': 0.008064516129032258, 'machin': 0.004032258064516129, 'came': 0.004032258064516129, 'area': 0.004032258064516129, 'product': 0.008064516129032258, 'feed': 0.004032258064516129, 'increasingli': 0.004032258064516129, 'intric': 0.004032258064516129, 'suppli': 0.004032258064516129, 'chain': 0.004032258064516129, 'mankind': 0.004032258064516129, 'first': 0.07258064516129029, 'constrain': 0.004032258064516129, 'much': 0.004032258064516129, 'could': 0.008064516129032258, 'produc': 0.016129032258064516, \"'\": 0.004032258064516129, 'willing': 0.004032258064516129, 'consum': 0.004032258064516129, 'trade': 0.012096774193548387, 'improv': 0.008064516129032258, 'greatli': 0.004032258064516129, 'expand': 0.012096774193548387, 'upon': 0.004032258064516129, 'limit': 0.008064516129032258, 'set': 0.012096774193548387, 'food-produc': 0.004032258064516129, 'techniqu': 0.004032258064516129, 'sinc': 0.020161290322580645, 'neolith': 0.004032258064516129, 'period': 0.016129032258064516, 'multipli': 0.004032258064516129, 'divers': 0.004032258064516129, 'food': 0.012096774193548387, 'avail': 0.008064516129032258, 'boost': 0.004032258064516129, 'qualiti': 0.008064516129032258, 'nutrit': 0.004032258064516129, 'earli': 0.004032258064516129, '19th': 0.016129032258064516, 'expect': 0.008064516129032258, 'thirti': 0.004032258064516129, 'lifespan-averag': 0.004032258064516129, 'exceed': 0.004032258064516129, '40': 0.008064516129032258, 'achiev': 0.004032258064516129, '70': 0.008064516129032258, 'three': 0.004032258064516129, 'decad': 0.008064516129032258, 'longer': 0.004032258064516129, 'earlier': 0.004032258064516129, '9': 0.004032258064516129, '10': 0.004032258064516129, 'term': 0.012096774193548387, 'often': 0.008064516129032258, 'erron': 0.004032258064516129, 'refer': 0.004032258064516129, '1900': 0.008064516129032258, 'tenth': 0.004032258064516129, 'final': 0.008064516129032258, '2nd': 0.004032258064516129, 'millennium': 0.004032258064516129, 'unlik': 0.004032258064516129, 'leap': 0.008064516129032258, 'second': 0.016129032258064516, 'gregorian': 0.004032258064516129, 'calendar': 0.004032258064516129, '1600': 0.004032258064516129, 'global-scal': 0.004032258064516129, 'total': 0.008064516129032258, 'across': 0.008064516129032258, 'contin': 0.004032258064516129, 'ocean': 0.008064516129032258, 'major': 0.028225806451612902, 'issu': 0.012096774193548387, 'acknowledg': 0.004032258064516129, 'along': 0.008064516129032258, 'right': 0.012096774193548387, 'self-determin': 0.004032258064516129, 'offici': 0.004032258064516129, 'mid-centuri': 0.004032258064516129, 'relat': 0.004032258064516129, 'shift': 0.004032258064516129, 'way': 0.012096774193548387, 'chang': 0.024193548387096774, 'ideolog': 0.012096774193548387, 'societi': 0.016129032258064516, 'scienc': 0.012096774193548387, 'medicin': 0.008064516129032258, 'may': 0.008064516129032258, 'seen': 0.012096774193548387, 'scientif': 0.020161290322580645, 'progress': 0.004032258064516129, 'dawn': 0.004032258064516129, 'civil': 0.008064516129032258, 'like': 0.008064516129032258, 'genocid': 0.008064516129032258, 'enter': 0.004032258064516129, 'usag': 0.004032258064516129, 'discoveri': 0.004032258064516129, 'theori': 0.016129032258064516, 'rel': 0.004032258064516129, 'quantum': 0.004032258064516129, 'physic': 0.008064516129032258, 'profoundli': 0.004032258064516129, 'foundat': 0.004032258064516129, 'model': 0.004032258064516129, 'forc': 0.008064516129032258, 'scientist': 0.012096774193548387, 'realiz': 0.004032258064516129, 'univers': 0.004032258064516129, 'complex': 0.004032258064516129, 'previous': 0.004032258064516129, 'believ': 0.004032258064516129, 'dash': 0.004032258064516129, 'hope': 0.004032258064516129, 'fear': 0.004032258064516129, 'last': 0.008064516129032258, 'detail': 0.004032258064516129, 'knowledg': 0.008064516129032258, 'fill': 0.004032258064516129, 'start': 0.008064516129032258, 'hors': 0.008064516129032258, 'simpl': 0.004032258064516129, 'freighter': 0.004032258064516129, 'high-spe': 0.004032258064516129, 'rail': 0.004032258064516129, 'cruis': 0.004032258064516129, 'ship': 0.004032258064516129, 'commerci': 0.004032258064516129, 'air': 0.004032258064516129, 'travel': 0.008064516129032258, 'shuttl': 0.004032258064516129, 'pack': 0.004032258064516129, 'anim': 0.012096774193548387, 'everi': 0.004032258064516129, 'basic': 0.004032258064516129, 'form': 0.028225806451612902, 'person': 0.004032258064516129, 'replac': 0.008064516129032258, 'buse': 0.004032258064516129, 'within': 0.004032258064516129, 'made': 0.012096774193548387, 'possibl': 0.004032258064516129, 'exploit': 0.004032258064516129, 'fossil': 0.008064516129032258, 'fuel': 0.012096774193548387, 'offer': 0.004032258064516129, 'energi': 0.004032258064516129, 'easili': 0.004032258064516129, 'portabl': 0.004032258064516129, 'also': 0.03225806451612903, 'caus': 0.016129032258064516, 'concern': 0.004032258064516129, 'pollut': 0.004032258064516129, 'long-term': 0.004032258064516129, 'impact': 0.004032258064516129, 'environ': 0.004032258064516129, 'take': 0.004032258064516129, 'footstep': 0.004032258064516129, 'moon': 0.004032258064516129, 'media': 0.004032258064516129, 'telecommun': 0.004032258064516129, 'inform': 0.016129032258064516, 'especi': 0.004032258064516129, 'paperback': 0.004032258064516129, 'book': 0.004032258064516129, 'public': 0.004032258064516129, 'educ': 0.008064516129032258, 'internet': 0.012096774193548387, 'wide': 0.004032258064516129, '35': 0.008064516129032258, '65': 0.004032258064516129, 'rapid': 0.004032258064516129, 'howev': 0.008064516129032258, 'warfar': 0.016129032258064516, 'destruct': 0.016129032258064516, 'alon': 0.008064516129032258, 'kill': 0.020161290322580645, '60': 0.008064516129032258, 'gave': 0.004032258064516129, 'humankind': 0.004032258064516129, 'mean': 0.004032258064516129, 'annihil': 0.004032258064516129, 'short': 0.004032258064516129, 'imperi': 0.004032258064516129, 'system': 0.008064516129032258, 'empir': 0.016129032258064516, 'expans': 0.008064516129032258, 'colon': 0.004032258064516129, 'ceas': 0.004032258064516129, 'factor': 0.004032258064516129, 'affair': 0.008064516129032258, 'far': 0.008064516129032258, 'cooper': 0.004032258064516129, 'clash': 0.004032258064516129, 'openli': 0.004032258064516129, '1945': 0.012096774193548387, 'violenc': 0.008064516129032258, 'ha': 0.004032258064516129, '11': 0.004032258064516129, 'ever': 0.008064516129032258, 'popular': 0.004032258064516129, 'music': 0.028225806451612902, 'influenc': 0.016129032258064516, 'western': 0.016129032258064516, 'corpor': 0.004032258064516129, 'arguabl': 0.004032258064516129, 'truli': 0.004032258064516129, 'dure': 0.024193548387096774, 'fought': 0.004032258064516129, 'new': 0.03225806451612903, 'invent': 0.012096774193548387, 'tank': 0.004032258064516129, 'chemic': 0.004032258064516129, 'aircraft': 0.004032258064516129, 'modifi': 0.004032258064516129, 'tactic': 0.004032258064516129, 'strategi': 0.004032258064516129, 'four': 0.008064516129032258, 'trench': 0.004032258064516129, 'europ': 0.03225806451612903, '20': 0.008064516129032258, 'dead': 0.008064516129032258, 'tripl': 0.008064516129032258, 'entent': 0.008064516129032258, 'franc': 0.012096774193548387, 'britain': 0.012096774193548387, 'russia': 0.004032258064516129, 'later': 0.012096774193548387, 'join': 0.004032258064516129, 'itali': 0.012096774193548387, 'romania': 0.004032258064516129, 'victori': 0.012096774193548387, 'central': 0.004032258064516129, 'germani': 0.03225806451612903, 'austria-hungari': 0.004032258064516129, 'ottoman': 0.008064516129032258, 'bulgaria': 0.004032258064516129, 'In': 0.016129032258064516, 'annex': 0.004032258064516129, 'coloni': 0.008064516129032258, 'possess': 0.004032258064516129, 'vanquish': 0.004032258064516129, 'exact': 0.004032258064516129, 'punit': 0.004032258064516129, 'restitut': 0.004032258064516129, 'payment': 0.004032258064516129, 'plung': 0.004032258064516129, 'particular': 0.004032258064516129, 'depress': 0.008064516129032258, 'austro-hungarian': 0.004032258064516129, 'dismantl': 0.004032258064516129, 'conclus': 0.004032258064516129, 'russian': 0.008064516129032258, 'overthrow': 0.004032258064516129, 'tsarist': 0.004032258064516129, 'regim': 0.004032258064516129, 'nichola': 0.004032258064516129, 'onset': 0.004032258064516129, 'bolshevik': 0.004032258064516129, 'At': 0.008064516129032258, 'begin': 0.008064516129032258, 'british': 0.008064516129032258, 'act': 0.008064516129032258, 'policeman': 0.004032258064516129, 'past': 0.004032258064516129, 'fascism': 0.004032258064516129, 'movement': 0.008064516129032258, 'grew': 0.004032258064516129, 'angst': 0.004032258064516129, '1930': 0.008064516129032258, 'gain': 0.008064516129032258, 'momentum': 0.004032258064516129, 'spain': 0.004032258064516129, '1920': 0.012096774193548387, 'culmin': 0.008064516129032258, 'spark': 0.004032258064516129, 'nazi': 0.004032258064516129, 'aggress': 0.004032258064516129, 'expens': 0.004032258064516129, 'neighbor': 0.004032258064516129, 'meanwhil': 0.008064516129032258, 'japan': 0.012096774193548387, 'industri': 0.016129032258064516, 'axi': 0.008064516129032258, 'militari': 0.020161290322580645, 'expansion': 0.004032258064516129, 'pacif': 0.004032258064516129, 'brought': 0.004032258064516129, 'surpris': 0.004032258064516129, 'attack': 0.004032258064516129, 'drew': 0.004032258064516129, 'US': 0.020161290322580645, 'dramat': 0.008064516129032258, 'success': 0.004032258064516129, 'defeat': 0.008064516129032258, 'invad': 0.004032258064516129, 'poland': 0.004032258064516129, 'kingdom': 0.004032258064516129, 'canada': 0.004032258064516129, 'alli': 0.012096774193548387, 'invas': 0.008064516129032258, 'manchuria': 0.004032258064516129, 'drop': 0.004032258064516129, 'atom': 0.004032258064516129, 'bomb': 0.004032258064516129, 'left': 0.012096774193548387, 'occupi': 0.004032258064516129, 'divid': 0.008064516129032258, 'rest': 0.004032258064516129, 'eastern': 0.004032258064516129, 'puppet': 0.004032258064516129, 'rebuilt': 0.004032258064516129, 'american': 0.020161290322580645, 'plan': 0.004032258064516129, 'boom': 0.004032258064516129, 'affect': 0.012096774193548387, 'close': 0.004032258064516129, 'stand': 0.004032258064516129, 'superpow': 0.004032258064516129, 'soon': 0.004032258064516129, 'hostil': 0.004032258064516129, 'anoth': 0.012096774193548387, 'compet': 0.008064516129032258, 'democrat': 0.004032258064516129, 'capit': 0.004032258064516129, 'iron': 0.004032258064516129, 'curtain': 0.004032258064516129, 'berlin': 0.004032258064516129, 'wall': 0.004032258064516129, 'nato': 0.004032258064516129, 'warsaw': 0.004032258064516129, 'pact': 0.004032258064516129, 'engag': 0.008064516129032258, 'decades-long': 0.004032258064516129, 'standoff': 0.004032258064516129, 'known': 0.004032258064516129, 'mark': 0.004032258064516129, 'race': 0.008064516129032258, 'ussr': 0.008064516129032258, 'side': 0.012096774193548387, 'suffici': 0.004032258064516129, 'number': 0.012096774193548387, 'planet': 0.008064516129032258, 'large-scal': 0.004032258064516129, 'exchang': 0.008064516129032258, 'occur': 0.008064516129032258, 'mutual': 0.004032258064516129, 'assur': 0.004032258064516129, 'credit': 0.004032258064516129, 'historian': 0.004032258064516129, 'prevent': 0.004032258064516129, 'unabl': 0.008064516129032258, 'strike': 0.008064516129032258, 'without': 0.004032258064516129, 'ensur': 0.004032258064516129, 'equal': 0.008064516129032258, 'devast': 0.004032258064516129, 'retaliatori': 0.004032258064516129, 'directli': 0.008064516129032258, 'play': 0.004032258064516129, 'seri': 0.004032258064516129, 'world—particularli': 0.004032258064516129, 'korea': 0.008064516129032258, 'cuba': 0.008064516129032258, 'vietnam': 0.008064516129032258, 'afghanistan—a': 0.004032258064516129, 'sought': 0.004032258064516129, 'export': 0.004032258064516129, 'attempt': 0.004032258064516129, 'contain': 0.004032258064516129, 'led': 0.016129032258064516, 'substanti': 0.004032258064516129, 'invest': 0.004032258064516129, 'research': 0.016129032258064516, 'innov': 0.004032258064516129, 'beyond': 0.004032258064516129, 'battlefield': 0.004032258064516129, 'european-colon': 0.004032258064516129, 'africa': 0.016129032258064516, 'independ': 0.008064516129032258, 'process': 0.008064516129032258, 'open': 0.008064516129032258, 'door': 0.004032258064516129, 'sever': 0.004032258064516129, 'exert': 0.004032258064516129, 'strong': 0.008064516129032258, 'presenc': 0.004032258064516129, 'spread': 0.012096774193548387, 'advent': 0.004032258064516129, 'hollywood': 0.008064516129032258, 'motion': 0.004032258064516129, 'pictur': 0.004032258064516129, 'broadway': 0.004032258064516129, 'rock': 0.008064516129032258, 'roll': 0.004032258064516129, 'pop': 0.004032258064516129, 'fast': 0.004032258064516129, 'big-box': 0.004032258064516129, 'store': 0.004032258064516129, 'hip-hop': 0.004032258064516129, 'lifestyl': 0.004032258064516129, 'continu': 0.016129032258064516, 'lead': 0.004032258064516129, 'band': 0.004032258064516129, 'countri': 0.012096774193548387, 'swedish': 0.004032258064516129, 'abba': 0.004032258064516129, 'sing': 0.004032258064516129, 'english': 0.004032258064516129, 'pressur': 0.004032258064516129, 'govern': 0.016129032258064516, 'support': 0.004032258064516129, 'dismantled—with': 0.004032258064516129, 'notabl': 0.004032258064516129, 'except': 0.004032258064516129, 'north': 0.008064516129032258, 'laos—follow': 0.004032258064516129, 'awkward': 0.004032258064516129, 'transit': 0.004032258064516129, 'market': 0.004032258064516129, 'follow': 0.008064516129032258, 'successor': 0.004032258064516129, 'leagu': 0.004032258064516129, 'forum': 0.004032258064516129, 'discuss': 0.004032258064516129, 'diplomat': 0.004032258064516129, 'enact': 0.004032258064516129, 'resolut': 0.004032258064516129, 'topic': 0.004032258064516129, 'conduct': 0.004032258064516129, 'protect': 0.004032258064516129, 'sovereignti': 0.004032258064516129, 'peacekeep': 0.004032258064516129, 'consist': 0.008064516129032258, 'troop': 0.004032258064516129, 'provid': 0.004032258064516129, 'agenc': 0.004032258064516129, 'help': 0.004032258064516129, 'reliev': 0.004032258064516129, 'famin': 0.008064516129032258, 'suppress': 0.004032258064516129, 'local': 0.004032258064516129, 'slowli': 0.004032258064516129, '15': 0.008064516129032258, 'due': 0.008064516129032258, 'indirectli': 0.004032258064516129, 'light': 0.004032258064516129, 'bulb': 0.004032258064516129, 'telephon': 0.008064516129032258, 'supertank': 0.004032258064516129, 'airlin': 0.004032258064516129, 'motorway': 0.004032258064516129, 'radio': 0.008064516129032258, 'televis': 0.004032258064516129, 'antibiot': 0.004032258064516129, 'frozen': 0.004032258064516129, 'microcomput': 0.004032258064516129, 'mobil': 0.004032258064516129, 'engin': 0.008064516129032258, 'profession': 0.004032258064516129, 'development—much': 0.004032258064516129, 'motiv': 0.004032258064516129, 'race—drov': 0.004032258064516129, 'everyday': 0.004032258064516129, 'discrimin': 0.004032258064516129, 'base': 0.008064516129032258, 'sex': 0.004032258064516129, 'although': 0.004032258064516129, 'atlant': 0.004032258064516129, 'slave': 0.004032258064516129, 'non-whit': 0.004032258064516129, 'white-domin': 0.004032258064516129, 'america': 0.004032258064516129, 'By': 0.004032258064516129, 'part': 0.016129032258064516, 'women': 0.004032258064516129, 'legal': 0.004032258064516129, 'men': 0.004032258064516129, 'racism': 0.004032258064516129, 'come': 0.004032258064516129, 'unaccept': 0.004032258064516129, 'back': 0.008064516129032258, 'legisl': 0.004032258064516129, '14': 0.004032258064516129, 'attitud': 0.004032258064516129, 'toward': 0.004032258064516129, 'homosexu': 0.004032258064516129, 'republ': 0.004032258064516129, 'india': 0.012096774193548387, 'constitut': 0.004032258064516129, 'disadvantag': 0.004032258064516129, 'class': 0.004032258064516129, 'cast': 0.004032258064516129, 'entitl': 0.004032258064516129, 'affirm': 0.004032258064516129, 'action': 0.012096774193548387, 'benefit': 0.004032258064516129, 'employ': 0.004032258064516129, '16': 0.004032258064516129, 'radic': 0.004032258064516129, 'alter': 0.004032258064516129, 'daili': 0.004032258064516129, 'appear': 0.004032258064516129, 'sustain': 0.004032258064516129, 'peac': 0.004032258064516129, 'indian': 0.004032258064516129, 'subcontin': 0.004032258064516129, 'sixth': 0.004032258064516129, 'attain': 0.004032258064516129, 'indigen': 0.004032258064516129, 'ancient': 0.004032258064516129, 'compris': 0.004032258064516129, 'fifth': 0.004032258064516129, 'near-complet': 0.004032258064516129, 'old': 0.004032258064516129, 'order': 0.004032258064516129, 'nearli': 0.004032258064516129, 'foreign': 0.004032258064516129, 'undergo': 0.004032258064516129, '18th': 0.004032258064516129, 'termin': 0.004032258064516129, 'posit': 0.004032258064516129, 'largest': 0.004032258064516129, 'integr': 0.004032258064516129, 'terror': 0.004032258064516129, 'dictatorship': 0.004032258064516129, 'press': 0.004032258064516129, 'still': 0.004032258064516129, 'blight': 0.004032258064516129, 'small-scal': 0.004032258064516129, 'violent': 0.004032258064516129, 'ethnic': 0.004032258064516129, 'threaten': 0.008064516129032258, 'destabil': 0.004032258064516129, 'virus': 0.004032258064516129, 'nile': 0.004032258064516129, 'viru': 0.012096774193548387, 'malaria': 0.004032258064516129, 'larg': 0.004032258064516129, 'infect': 0.004032258064516129, 'hiv': 0.004032258064516129, 'becom': 0.004032258064516129, 'epidem': 0.004032258064516129, 'southern': 0.004032258064516129, 'done': 0.004032258064516129, 'climat': 0.004032258064516129, 'consid': 0.004032258064516129, 'long': 0.004032258064516129, 'problem': 0.004032258064516129, 'habit': 0.004032258064516129, '17': 0.004032258064516129, 'argument': 0.004032258064516129, 'human-caus': 0.004032258064516129, 'emiss': 0.008064516129032258, 'greenhous': 0.004032258064516129, 'gase': 0.004032258064516129, 'particularli': 0.004032258064516129, 'carbon': 0.008064516129032258, 'dioxid': 0.008064516129032258, 'burn': 0.004032258064516129, '18': 0.004032258064516129, 'thi': 0.008064516129032258, 'prompt': 0.004032258064516129, 'negoti': 0.004032258064516129, 'sign': 0.004032258064516129, 'kyoto': 0.004032258064516129, 'treati': 0.004032258064516129, 'mandatori': 0.004032258064516129, '1.6': 0.004032258064516129, '6.1': 0.004032258064516129, '19': 0.004032258064516129, 'politicid': 0.004032258064516129, 'murder': 0.004032258064516129, '50': 0.004032258064516129, 'rudolph': 0.004032258064516129, 'rummel': 0.004032258064516129, '262,000,000': 0.004032258064516129, 'democid': 0.004032258064516129, 'exclud': 0.004032258064516129, 'battl': 0.004032258064516129, 'civilian': 0.008064516129032258, 'unintent': 0.004032258064516129, 'riot': 0.004032258064516129, 'mob': 0.004032258064516129, '21': 0.004032258064516129, 'accord': 0.004032258064516129, 'charl': 0.004032258064516129, 'tilli': 0.004032258064516129, 'altogeth': 0.004032258064516129, 'die': 0.012096774193548387, 'direct': 0.004032258064516129, 'cours': 0.004032258064516129, 'compar': 0.004032258064516129, 'war-induc': 0.004032258064516129, 'indirect': 0.004032258064516129, 'effect': 0.004032258064516129, '22': 0.004032258064516129, 'approxim': 0.004032258064516129, '1914': 0.004032258064516129, '23': 0.004032258064516129, 'phonograph': 0.004032258064516129, 'dissemin': 0.004032258064516129, 'broadcast': 0.004032258064516129, 'audienc': 0.004032258064516129, 'prior': 0.004032258064516129, 'experienc': 0.004032258064516129, 'perform': 0.004032258064516129, 'genr': 0.004032258064516129, 'film': 0.03629032258064516, 'artist': 0.004032258064516129, 'medium': 0.004032258064516129, 'movi': 0.004032258064516129, 'theatr': 0.004032258064516129, 'pittsburgh': 0.004032258064516129, '1905': 0.004032258064516129, '29': 0.004032258064516129, 'center': 0.004032258064516129, 'black': 0.004032258064516129, 'white': 0.008064516129032258, 'technicolor': 0.004032258064516129, 'color': 0.008064516129032258, 'sound': 0.004032258064516129, 'full-length': 0.012096774193548387, 'featur': 0.008064516129032258, 'jazz': 0.004032258064516129, 'singer': 0.004032258064516129, 'releas': 0.012096774193548387, 'academi': 0.004032258064516129, 'award': 0.004032258064516129, '1929': 0.004032258064516129, 'cel': 0.004032258064516129, 'snow': 0.004032258064516129, 'seven': 0.004032258064516129, 'dwarf': 0.004032258064516129, '1937': 0.004032258064516129, 'computer-gener': 0.004032258064516129, 'imageri': 0.004032258064516129, '1980': 0.004032258064516129, 'cgi-anim': 0.004032258064516129, 'toy': 0.004032258064516129, 'stori': 0.004032258064516129, '1995': 0.004032258064516129, 'games—du': 0.004032258064516129, 'step': 0.004032258064516129, 'forward': 0.004032258064516129, 'period—ar': 0.004032258064516129, 'entertain': 0.004032258064516129, 'alongsid': 0.004032258064516129, 'multipl': 0.004032258064516129, 'field': 0.012096774193548387, 'mathemat': 0.004032258064516129, 'measur': 0.004032258064516129, 'function': 0.004032258064516129, 'analysi': 0.004032258064516129, 'topolog': 0.004032258064516129, 'abstract': 0.004032258064516129, 'algebra': 0.004032258064516129, 'probabl': 0.004032258064516129, 'formal': 0.004032258064516129, 'logic': 0.004032258064516129, 'gödel': 0.004032258064516129, 'incomplet': 0.004032258064516129, 'theorem': 0.008064516129032258, '33': 0.004032258064516129, 'computationally-intens': 0.004032258064516129, 'studi': 0.004032258064516129, 'fractal': 0.004032258064516129, '34': 0.004032258064516129, 'proof': 0.004032258064516129, '1976': 0.004032258064516129, 'promin': 0.004032258064516129, 'trait': 0.004032258064516129, 'practic': 0.004032258064516129, 'electron': 0.008064516129032258, 'A': 0.004032258064516129, 'various': 0.004032258064516129, 'call': 0.004032258064516129, '41': 0.004032258064516129, '42': 0.004032258064516129, '43': 0.004032258064516129, 'microelectron': 0.004032258064516129, '44': 0.004032258064516129, 'age': 0.008064516129032258, '45': 0.004032258064516129, 'silicon': 0.008064516129032258, '46': 0.008064516129032258, '47': 0.008064516129032258, '48': 0.004032258064516129, 'and/or': 0.004032258064516129, 'third': 0.004032258064516129, '49': 0.004032258064516129}\n"
          ]
        }
      ]
    },
    {
      "cell_type": "code",
      "source": [
        "check_max_weight = check_max_frequency(weight_frequency_table)\n",
        "print(check_max_weight)"
      ],
      "metadata": {
        "id": "9ruERTgJauQp",
        "colab": {
          "base_uri": "https://localhost:8080/"
        },
        "outputId": "ec437531-eb78-45c2-eab2-f23ec8e2c8f7"
      },
      "execution_count": null,
      "outputs": [
        {
          "output_type": "stream",
          "name": "stdout",
          "text": [
            "0.9999999999999992\n"
          ]
        }
      ]
    },
    {
      "cell_type": "markdown",
      "metadata": {
        "id": "UjS00OSoDYTD"
      },
      "source": [
        "**Step 3:  Tokenizing the article into sentences**"
      ]
    },
    {
      "cell_type": "markdown",
      "source": [
        "ทำการแบ่งเนื้อหาเป็นประโยคแต่ละประโยค แล้วเก็บใส่เข้าตัวแปร sentences โดยใช้ built-in function จาก nltk คือ sent_tokenize"
      ],
      "metadata": {
        "id": "8vSynN9AR-_t"
      }
    },
    {
      "cell_type": "code",
      "metadata": {
        "id": "0jenDCeKAPRP"
      },
      "source": [
        "from nltk.tokenize import sent_tokenize\n",
        "\n",
        "sentences = sent_tokenize(article_content)"
      ],
      "execution_count": null,
      "outputs": []
    },
    {
      "cell_type": "code",
      "source": [
        "print(sentences)"
      ],
      "metadata": {
        "id": "BwBvQKXfbLGt",
        "colab": {
          "base_uri": "https://localhost:8080/"
        },
        "outputId": "6db65cb7-0d1c-4638-a1b0-905b876f64ae"
      },
      "execution_count": null,
      "outputs": [
        {
          "output_type": "stream",
          "name": "stdout",
          "text": [
            "['The 20th (twentieth) century began on\\nJanuary 1, 1901 (MCMI), and ended on December 31, 2000 (MM).', '[1] The 20th century was dominated by significant events that defined the modern era: Spanish flu pandemic, World War I and World War II, nuclear weapons, nuclear power and space exploration, nationalism and decolonization, technological advances, and the Cold War and post-Cold War conflicts.', 'These reshaped the political and social structure of the globe.', \"The 20th century saw a massive transformation of humanity's relationship with the natural world.\", \"Global population, sea level rise, and ecological collapses increased while competition for land and dwindling resources accelerated deforestation, water depletion, and the mass extinction of many of the world's species and decline in the population of others.\", 'Man-made global warming increased the risk of extreme weather conditions.', 'Additional themes include intergovernmental organizations and cultural homogenization through developments in emerging transportation and communications technology; poverty reduction and world population growth, awareness of environmental degradation, ecological extinction;[2][3] and the birth of the Digital Revolution.', 'Automobiles, airplanes and the use of home appliances became common, as did video and audio recording.', 'Great advances in power generation, communication, and medical technology allowed for near-instantaneous worldwide computer communication and genetic modification of life.', 'The repercussions of the World Wars, Cold War, and globalization crafted a world where people are more united than any previous time in human history, as exemplified by the establishment of international law, international aid, and the United Nations.', 'The Marshall Plan—which spent $13 billion ($100\\xa0billion in 2019 U.S. dollars)[4] to rebuild the economies of post-war nations—launched \"Pax Americana\".', 'Throughout the latter half of the 20th century, the rivalry between the United States and the Soviet Union created enormous tensions around the world which manifested in various armed proxy regional conflicts and the omnipresent danger of nuclear proliferation.', \"The dissolution of the Soviet Union in 1991 after the collapse of its European alliance was heralded by the West as the end of communism, though by the century's end roughly one in six people on Earth lived under communist rule, mostly in China which was rapidly rising as an economic and geopolitical power.\", \"It took over two hundred thousand years of modern human history and 6 million years of human evolution for the world's population to reach 1 billion in 1804;[5] world population reached an estimated 2 billion in 1927; by late 1999, the global population reached 6 billion, with over half in East, South and Southeast Asia.\", '[6][7][8] Global literacy averaged 80%.', \"Penicillin and other medical breakthroughs combined with the World Health Organization's global campaigns to eradicate smallpox and other diseases responsible for more human deaths than all wars and natural disasters combined yielded unprecedented results; smallpox now only existed in labs.\", \"[citation needed] Machines came to be used in all areas of production, feeding increasingly intricate supply chains that allowed mankind for the first time to be constrained not by how much it could produce, but by peoples' willingness to consume.\", 'Trade improvements greatly expanded upon the limited set of food-producing techniques used since the Neolithic period, multiplying the diversity of foods available and boosting the quality of human nutrition.', 'Until the early 19th century, life expectancy from birth was about thirty in most populations; global lifespan-averages exceeded 40 years for the first time in history, with over half achieving 70 or more years (three decades longer than a century earlier).', '[9]\\nThe 20th (twentieth) century began on\\nJanuary 1, 1901,[1] and ended on December 31, 2000.', '[10] The term is often used erroneously to refer to \"the 1900s\", the century between January 1, 1900 and December 31, 1999.', 'It was the tenth and final century of the 2nd millennium.', 'Unlike most century years, the year 2000 was a leap year, and the second century leap year in the Gregorian calendar after 1600.', 'The century had the first global-scale total wars between world powers across continents and oceans in World War I and World War II.', 'Nationalism became a major political issue in the world in the 20th century, acknowledged in international law along with the right of nations to self-determination, official decolonization in the mid-century, and related regional conflicts.', 'The century saw a major shift in the way that many people lived, with changes in politics, ideology, economics, society, culture, science, technology, and medicine.', 'The 20th century may have seen more technological and scientific progress than all the other centuries combined since the dawn of civilization.', 'Terms like nationalism, globalism, environmentalism, ideology, world war, genocide, and nuclear war entered common usage.', 'Scientific discoveries, such as the theory of relativity and quantum physics, profoundly changed the foundational models of physical science, forcing scientists to realize that the universe was more complex than previously believed, and dashing the hopes (or fears) at the end of the 19th century that the last few details of scientific knowledge were about to be filled in.', 'It was a century that started with horses, simple automobiles, and freighters but ended with high-speed rail, cruise ships, global commercial air travel and the Space Shuttle.', \"Horses and other pack animals, every society's basic form of personal transportation for thousands of years, were replaced by automobiles and buses within a few decades.\", 'These developments were made possible by the exploitation of fossil fuel resources, which offered energy in an easily portable form, but also caused concern about pollution and long-term impact on the environment.', 'Humans explored space for the first time, taking their first footsteps on the Moon.', \"Mass media, telecommunications, and information technology (especially computers, paperback books, public education, and the Internet) made the world's knowledge more widely available.\", 'Advancements in medical technology also improved the health of many people: the global life expectancy increased from 35 years to 65 years.', 'Rapid technological advancements, however, also allowed warfare to reach unprecedented levels of destruction.', 'World War II alone killed over 60 million people, while nuclear weapons gave humankind the means to annihilate itself in a short time.', 'However, these same wars resulted in the destruction of the imperial system.', 'For the first time in human history, empires and their wars of expansion and colonization ceased to be a factor in international affairs, resulting in a far more globalized and cooperative world.', 'The last time major powers clashed openly was in 1945, and since then, violence has seen an unprecedented decline.', '[11]\\nThe world also became more culturally homogenized than ever with developments in transportation and communications technology, popular music and other influences of Western culture, international corporations, and what was arguably a truly global economy by the end of the 20th century.', 'Technological advancements during World War I changed the way war was fought, as new inventions such as tanks, chemical weapons, and aircraft modified tactics and strategy.', 'After more than four years of trench warfare in Western Europe, and 20 million dead, the powers that had formed the Triple Entente (France, Britain, and Russia, later replaced by the United States and joined by Italy and Romania) emerged victorious over the Central Powers (Germany, Austria-Hungary, the Ottoman Empire and Bulgaria).', 'In addition to annexing many of the colonial possessions of the vanquished states, the Triple Entente exacted punitive restitution payments from them, plunging Germany in particular into economic depression.', \"The Austro-Hungarian and Ottoman empires were dismantled at the war's conclusion.\", 'The Russian Revolution resulted in the overthrow of the Tsarist regime of Nicholas II and the onset of the Russian Civil War.', \"The victorious Bolsheviks then established the Soviet Union, the world's first communist state.\", \"At the beginning of the period, the British Empire was the world's most powerful nation,[13] having acted as the world's policeman for the past century.\", \"Fascism, a movement which grew out of post-war angst and which accelerated during the Great Depression of the 1930s, gained momentum in Italy, Germany, and Spain in the 1920s and 1930s, culminating in World War II, sparked by Nazi Germany's aggressive expansion at the expense of its neighbors.\", 'Meanwhile, Japan had rapidly transformed itself into a technologically advanced industrial power and, along with Germany and Italy, formed the Axis powers.', \"Japan's military expansionism in East Asia and the Pacific Ocean brought it into conflict with the United States, culminating in a surprise attack which drew the US into World War II.\", 'After some years of dramatic military success, Germany was defeated in 1945, having been invaded by the Soviet Union and Poland from the East and by the United States, the United Kingdom, Canada, and France from the West.', 'After the victory of the Allies in Europe, the war in Asia ended with the Soviet invasion of Manchuria and the dropping of two atomic bombs on Japan by the US, the first nation to develop nuclear weapons and the only one to use them in warfare.', 'In total, World War II left some 60 million people dead.', 'After the war, Germany was occupied and divided between the Western powers and the Soviet Union.', 'East Germany and the rest of Eastern Europe became Soviet puppet states under communist rule.', 'Western Europe was rebuilt with the aid of the American Marshall Plan, resulting in a major post-war economic boom, and many of the affected nations became close allies of the United States.', \"With the Axis defeated and Britain and France rebuilding, the United States and the Soviet Union were left standing as the world's only superpowers.\", 'Allies during the war, they soon became hostile to one another as their competing ideologies of communism and democratic capitalism proliferated in Europe, which became divided by the Iron Curtain and the Berlin Wall.', 'They formed competing military alliances (NATO and the Warsaw Pact) which engaged in a decades-long standoff known as the Cold War.', 'The period was marked by a new arms race as the USSR became the second nation to develop nuclear weapons, which were produced by both sides in sufficient numbers to end most human life on the planet had a large-scale nuclear exchange ever occurred.', 'Mutually assured destruction is credited by many historians as having prevented such an exchange, each side being unable to strike first at the other without ensuring an equally devastating retaliatory strike.', 'Unable to engage one another directly, the conflict played out in a series of proxy wars around the world—particularly in China, Korea, Cuba, Vietnam, and Afghanistan—as the USSR sought to export communism while the US attempted to contain it.', 'The technological competition between the two sides led to substantial investment in research and development which produced innovations that reached far beyond the battlefield, such as space exploration and the Internet.', 'In the latter half of the century, most of the European-colonized world in Africa and Asia gained independence in a process of decolonization.', 'Meanwhile, globalization opened the door for several nations to exert a strong influence over many world affairs.', \"The US's global military presence spread American culture around the world with the advent of the Hollywood motion picture industry, Broadway, rock and roll, pop music, fast food, big-box stores, and the hip-hop lifestyle.\", 'Britain also continued to influence world culture, including the \"British Invasion\" into American music, leading many rock bands from other countries (such as Swedish ABBA) to sing in English.', 'After the Soviet Union collapsed under internal pressure in 1991, most of the communist governments it had supported around the world were dismantled—with the notable exceptions of China, North Korea, Cuba, Vietnam, and Laos—followed by awkward transitions into market economies.', \"Following World War II, the United Nations, successor to the League of Nations, was established as an international forum in which the world's nations could discuss issues diplomatically.\", 'It enacted resolutions on such topics as the conduct of warfare, environmental protection, international sovereignty, and human rights.', 'Peacekeeping forces consisting of troops provided by various countries, with various United Nations and other aid agencies, helped to relieve famine, disease, and poverty, and to suppress some local armed conflicts.', 'Europe slowly united, economically and, in some ways, politically, to form the European Union, which consisted of 15 European countries by the end of the 20th century.', 'Due to continuing industrialization and expanding trade, many significant changes of the century were, directly or indirectly, economic and technological in nature.', \"Inventions such as the light bulb, the automobile, and the telephone in the late 19th century, followed by supertankers, airliners, motorways, radio, television, antibiotics, nuclear power, frozen food, computers and microcomputers, the Internet, and mobile telephones affected people's quality of life across the developed world.\", 'Scientific research, engineering professionalization and technological development—much of it motivated by the Cold War arms race—drove changes in everyday life.', 'At the beginning of the century, strong discrimination based on race and sex was significant in most societies.', 'Although the Atlantic slave trade had ended in the 19th century, movements for equality for non-white people in the white-dominated societies of North America, Europe, and South Africa continued.', 'By the end of the 20th century, in many parts of the world, women had the same legal rights as men, and racism had come to be seen as unacceptable, often backed up by legislation.', '[14] Attitudes towards homosexuality also began to change in the later part of the century.', 'When the Republic of India was constituted, the disadvantaged classes of the caste system in India became entitled to affirmative action benefits in education, employment and government.', '[15][16]\\nCommunications and information technology, transportation technology, and medical advances had radically altered daily lives.', 'Europe appeared to be at a sustainable peace for the first time in recorded history.', 'The people of the Indian subcontinent, a sixth of the world population at the end of the 20th century, had attained an indigenous independence for the first time in centuries.', 'China, an ancient nation comprising a fifth of the world population, was finally open to the world, creating a new state after the near-complete destruction of the old cultural order.', 'With the end of colonialism and the Cold War, nearly a billion people in Africa were left in new nation states after centuries of foreign domination.', 'The world was undergoing its second major period of globalization; the first, which started in the 18th century, having been terminated by World War I.', 'Since the US was in a dominant position, a major part of the process was Americanization.', \"The influence of China and India was also rising, as the world's largest populations were rapidly integrating with the world economy.\", 'Terrorism, dictatorship, and the spread of nuclear weapons were pressing global issues.', 'The world was still blighted by small-scale wars and other violent conflicts, fueled by competition over resources and by ethnic conflicts.', 'Disease threatened to destabilize many regions of the world.', 'New viruses such as the West Nile virus continued to spread.', 'Malaria and other diseases affected large populations.', 'Millions were infected with HIV, the virus which causes AIDS.', 'The virus was becoming an epidemic in southern Africa.', \"Based on research done by climate scientists, the majority of the scientific community consider that in the long term environmental problems may threaten the planet's habitability.\", '[17] One argument is that of global warming occurring due to human-caused emission of greenhouse gases, particularly carbon dioxide produced by the burning of fossil fuels.', '[18] This prompted many nations to negotiate and sign the Kyoto treaty, which set mandatory limits on carbon dioxide emissions.', \"World population increased from about 1.6\\xa0billion people in 1901 to 6.1\\xa0billion at the century's end.\", '[19][20]\\nThe number of people killed during the century by government actions was in the hundreds of millions.', 'This includes deaths caused by wars, genocide, politicide and mass murders.', 'The deaths from acts of war during the two world wars alone have been estimated at between 50 and 80 million.', '[citation needed] Political scientist Rudolph Rummel estimated 262,000,000 deaths caused by democide, which excludes those killed in war battles, civilians unintentionally killed in war and killings of rioting mobs.', '[21] According to Charles Tilly, \"Altogether, about 100 million people died as a direct result of action by organized military units backed by one government or another over the course of the century.', 'Most likely a comparable number of civilians died of war-induced disease and other indirect effects.', '\"[22] It is estimated that approximately 70 million Europeans died through war, violence and famine between 1914 and 1945.', '[23]\\nThe invention of music recording technologies such as the phonograph record, and dissemination technologies such as radio broadcasting, massively expanded the audience for music.', 'Prior to the 20th century, music was generally only experienced in live performances.', 'Many new genres of music were established during the 20th century.', 'Film as an artistic medium was created in the 20th century.', 'The first modern movie theatre was established in Pittsburgh in 1905.', '[29] Hollywood developed as the center of American film production.', 'While the first films were in black and white, technicolor was developed in the 1920s to allow for color films.', 'Sound films were developed, with the first full-length feature film, The Jazz Singer, released in 1927.', 'The Academy Awards were established in 1929.', 'Animation was also developed in the 1920s, with the first full-length cel animated feature film Snow White and the Seven Dwarfs, released in 1937.', 'Computer-generated imagery was developed in the 1980s, with the first full-length CGI-animated film Toy Story was released in 1995.', 'Video games—due to the great technological steps forward in computing since the second post-war period—are the new form of entertainment emerged in the 20th century alongside films.', 'Multiple new fields of mathematics were developed in the 20th century.', 'In the first part of the 20th century, measure theory, functional analysis, and topology were established, and significant developments were made in fields such as abstract algebra and probability.', \"The development of set theory and formal logic led to Gödel's incompleteness theorems.\", 'Later in the 20th century, the development of computers led to the establishment of a theory of computation.', '[33] Other computationally-intense results include the study of fractals[34] and a proof of the four color theorem in 1976.', '[35]\\nOne of the prominent traits of the 20th century was the dramatic growth of technology.', 'Organized research and practice of science led to advancement in the fields of communication, electronics, engineering, travel, medicine, and war.', 'A technological revolution began in the late 20th century, variously called the Digital Revolution, the information revolution,[40][41][42] the electronics revolution,[43] the microelectronic revolution,[44] the Information Age,[45] the silicon revolution,[46][47] the Silicon Age,[46][47][48] and/or the third industrial revolution.', '[49]']\n"
          ]
        }
      ]
    },
    {
      "cell_type": "markdown",
      "metadata": {
        "id": "tSIZu2_7Dd2E"
      },
      "source": [
        "**Step 4: Finding the weighted frequencies of the sentences**"
      ]
    },
    {
      "cell_type": "markdown",
      "source": [
        "ทำอัลกอริทึมหาค่าน้ำหนักของแต่ละประโยค เพื่อหาว่าประโยคใดเป็นใจความสำคัญของบทความ\n",
        "และเพื่อป้องกันไม่ให้ประโยคที่ยาวมีค่าน้ำหนักมากกว่าประโยคที่สั้น เราจึงต้องหารค่าน้ำหนักด้วยจำนวนคำในประโยคโดยไม่นับรวม stop word ในประโยคนั้น ๆ"
      ],
      "metadata": {
        "id": "kwAg64N4R413"
      }
    },
    {
      "cell_type": "code",
      "metadata": {
        "id": "1kSPjKKPAPWs"
      },
      "source": [
        "def _calculate_sentence_scores(sentences, weight_frequency_table) -> dict:   \n",
        "\n",
        "    # Algorithm for scoring a sentence by its words\n",
        "    sentence_weight = dict()\n",
        "\n",
        "    for sentence in sentences:\n",
        "        sentence_wordcount = (len(word_tokenize(sentence)))\n",
        "        sentence_wordcount_without_stop_words = 0\n",
        "        for word_weight in weight_frequency_table:\n",
        "            if word_weight in sentence.lower():\n",
        "                sentence_wordcount_without_stop_words += 1\n",
        "                if sentence[:7] in sentence_weight:\n",
        "                    sentence_weight[sentence[:7]] += weight_frequency_table[word_weight]\n",
        "                else:\n",
        "                    sentence_weight[sentence[:7]] = weight_frequency_table[word_weight]\n",
        "\n",
        "        sentence_weight[sentence[:7]] = sentence_weight[sentence[:7]] /        sentence_wordcount_without_stop_words\n",
        "      \n",
        "    return sentence_weight"
      ],
      "execution_count": null,
      "outputs": []
    },
    {
      "cell_type": "code",
      "metadata": {
        "id": "nhWTI0k0Pc9t"
      },
      "source": [
        "sentence_scores = _calculate_sentence_scores(sentences, weight_frequency_table)"
      ],
      "execution_count": null,
      "outputs": []
    },
    {
      "cell_type": "code",
      "metadata": {
        "id": "aqirApCbPfcI",
        "colab": {
          "base_uri": "https://localhost:8080/"
        },
        "outputId": "a44bb49f-6b61-4d1e-f8b5-16145688dc9f"
      },
      "source": [
        "print(sentence_scores)"
      ],
      "execution_count": null,
      "outputs": [
        {
          "output_type": "stream",
          "name": "stdout",
          "text": [
            "{'The 20t': 0.06442195458404072, '[1] The': 0.07389112903225802, 'These r': 0.07891705069124419, 'Global ': 0.06955645161290319, 'Man-mad': 0.0732009925558312, 'Additio': 0.0686443932411674, 'Automob': 0.09724857685009487, 'Great a': 0.10201612903225801, 'The rep': 0.10282258064516119, 'The Mar': 0.04217523975588494, 'Through': 0.07056451612903222, 'The dis': 0.06143887945670625, 'It took': 0.061400293255131924, '[6][7][': 0.07997311827956984, 'Penicil': 0.04349951124144677, '[citati': 0.08419316481914765, 'Trade i': 0.06761786600496279, 'Until t': 0.05942275042444819, '[9]\\nThe': 0.11028225806451608, '[10] Th': 0.10526315789473684, 'It was ': 0.09020213657310433, 'Unlike ': 0.09953310696095075, 'The cen': 0.10614143920595531, 'Nationa': 0.06622678396871944, 'Terms l': 0.11370967741935478, 'Scienti': 0.08479059083897789, 'Horses ': 0.07610887096774194, 'These d': 0.06690561529271209, 'Humans ': 0.17016129032258057, 'Mass me': 0.07459677419354836, 'Advance': 0.0481854838709677, 'Rapid t': 0.10971986417657043, 'World W': 0.09862231182795694, 'However': 0.1883064516129031, 'For the': 0.09741935483870963, 'The las': 0.08669354838709678, '[11]\\nTh': 0.07969015280135819, 'Technol': 0.09129032258064507, 'After m': 0.060778914240755315, 'In addi': 0.06792803970223325, 'The Aus': 0.0865102639296187, 'The Rus': 0.06209677419354834, 'The vic': 0.14890552995391695, 'At the ': 0.14745066761195785, 'Fascism': 0.06058998302207127, 'Meanwhi': 0.11233729485002825, \"Japan's\": 0.10115708274894804, 'After s': 0.0745221027479092, 'After t': 0.06517082111436946, 'In tota': 0.178763440860215, 'East Ge': 0.05831265508684859, 'Western': 0.0815092165898617, 'With th': 0.13064751933597427, 'Allies ': 0.08017990074441683, 'They fo': 0.04418682795698925, 'The per': 0.06980846774193547, 'Mutuall': 0.07881231671554252, 'Unable ': 0.07567204301075266, 'The tec': 0.06826036866359449, 'In the ': 0.09438470728793308, \"The US'\": 0.07419354838709671, 'Britain': 0.07862903225806447, 'Followi': 0.11117511520737315, 'It enac': 0.10221774193548379, 'Peaceke': 0.06765232974910396, 'Europe ': 0.09714076246334305, 'Due to ': 0.09359083191850592, 'Inventi': 0.05894777265745005, 'Althoug': 0.064238042269188, 'By the ': 0.09758064516129031, '[14] At': 0.06876061120543295, 'When th': 0.07610887096774195, '[15][16': 0.10291858678955446, 'The peo': 0.10063113604488072, 'China, ': 0.09842375366568906, 'The wor': 0.13153462998102458, 'Since t': 0.147513440860215, 'The inf': 0.11141765704584031, 'Terrori': 0.14079301075268813, 'Disease': 0.10771889400921651, 'New vir': 0.06290322580645157, 'Malaria': 0.07610887096774188, 'Million': 0.16249999999999992, 'The vir': 0.0784050179211469, 'Based o': 0.06397849462365594, '[17] On': 0.07563538611925706, '[18] Th': 0.11178315412186375, 'World p': 0.06333017077798862, '[19][20': 0.06430390492359932, 'This in': 0.1382488479262672, 'The dea': 0.07232862903225805, '[21] Ac': 0.0761957730812013, 'Most li': 0.060215053763440815, '\"[22] I': 0.08189655172413789, '[23]\\nTh': 0.09732404692082107, 'Prior t': 0.13191244239631333, 'Many ne': 0.08820564516129026, 'Film as': 0.08960573476702502, 'The fir': 0.06327543424317614, '[29] Ho': 0.0682795698924731, 'While t': 0.11337760910815936, 'Sound f': 0.09422750424448217, 'The Aca': 0.07493279569892468, 'Animati': 0.07733294930875574, 'Compute': 0.07630272952853599, 'Video g': 0.04032258064516131, 'Multipl': 0.08064516129032252, 'The dev': 0.05769230769230765, 'Later i': 0.14784946236559132, '[33] Ot': 0.04453015427769985, '[35]\\nOn': 0.07711693548387095, 'Organiz': 0.09658218125960058, 'A techn': 0.05342741935483868, '[49]': 0.06854838709677415}\n"
          ]
        }
      ]
    },
    {
      "cell_type": "code",
      "source": [
        "max_weight_senetence = check_max_frequency(sentence_scores)\n",
        "print(max_weight_senetence)"
      ],
      "metadata": {
        "id": "J_UQsQUDe94p",
        "outputId": "9ea4e4b2-93a9-4277-f6a7-ff71788e13dc",
        "colab": {
          "base_uri": "https://localhost:8080/"
        }
      },
      "execution_count": null,
      "outputs": [
        {
          "output_type": "stream",
          "name": "stdout",
          "text": [
            "0.1883064516129031\n"
          ]
        }
      ]
    },
    {
      "cell_type": "markdown",
      "metadata": {
        "id": "mzVfXFDaDhQ3"
      },
      "source": [
        "**Step 5: Calculating the threshold of the sentences**"
      ]
    },
    {
      "cell_type": "markdown",
      "source": [
        "สร้างเกณฑ์จากค่าเฉลี่ยของคะแนนแต่ละประโยค"
      ],
      "metadata": {
        "id": "anEY0Mf2QRXF"
      }
    },
    {
      "cell_type": "code",
      "metadata": {
        "id": "N2Zv8gJuAPeQ"
      },
      "source": [
        "def _calculate_average_score(sentence_weight) -> int:\n",
        "   \n",
        "    # Calculating the average score for the sentences\n",
        "    sum_values = 0\n",
        "    for entry in sentence_weight:\n",
        "        sum_values += sentence_weight[entry]\n",
        "\n",
        "    # Getting sentence average value from source text\n",
        "    average_score = (sum_values / len(sentence_weight))\n",
        "\n",
        "    return average_score"
      ],
      "execution_count": null,
      "outputs": []
    },
    {
      "cell_type": "code",
      "metadata": {
        "id": "AGmAGoayQ12-"
      },
      "source": [
        "threshold = _calculate_average_score(sentence_scores)"
      ],
      "execution_count": null,
      "outputs": []
    },
    {
      "cell_type": "code",
      "metadata": {
        "id": "UX2rqLCaQ3gA",
        "colab": {
          "base_uri": "https://localhost:8080/"
        },
        "outputId": "c5288adf-bcd7-40b4-e170-c08fb8f7672d"
      },
      "source": [
        "print(threshold)"
      ],
      "execution_count": null,
      "outputs": [
        {
          "output_type": "stream",
          "name": "stdout",
          "text": [
            "0.0874855199331064\n"
          ]
        }
      ]
    },
    {
      "cell_type": "markdown",
      "metadata": {
        "id": "KvLPxC1xDkB2"
      },
      "source": [
        "**Step 6: Getting the summary**"
      ]
    },
    {
      "cell_type": "markdown",
      "source": [
        "สรุปบทความจากตัวแปรที่สร้าง"
      ],
      "metadata": {
        "id": "2fEqEb1qQb6q"
      }
    },
    {
      "cell_type": "code",
      "metadata": {
        "id": "fyKtJs6ZB6U9"
      },
      "source": [
        "def _get_article_summary(sentences, sentence_weight, threshold):\n",
        "    sentence_counter = 0\n",
        "    article_summary = ''\n",
        "\n",
        "    for sentence in sentences:\n",
        "        if sentence[:7] in sentence_weight and sentence_weight[sentence[:7]] >= (threshold):\n",
        "            article_summary += \" \" + sentence\n",
        "            sentence_counter += 1\n",
        "\n",
        "    return article_summary"
      ],
      "execution_count": null,
      "outputs": []
    },
    {
      "cell_type": "code",
      "metadata": {
        "id": "xmg5MvfoQ9gH"
      },
      "source": [
        "article_summary = _get_article_summary(sentences, sentence_scores, 1.5 * threshold)"
      ],
      "execution_count": null,
      "outputs": []
    },
    {
      "cell_type": "code",
      "metadata": {
        "id": "qm7xZqEcQ_Bz",
        "colab": {
          "base_uri": "https://localhost:8080/"
        },
        "outputId": "f34d79c0-70c9-4d37-f79f-4f7738c0d9d3"
      },
      "source": [
        "print(article_summary)"
      ],
      "execution_count": null,
      "outputs": [
        {
          "output_type": "stream",
          "name": "stdout",
          "text": [
            " Humans explored space for the first time, taking their first footsteps on the Moon. However, these same wars resulted in the destruction of the imperial system. The victorious Bolsheviks then established the Soviet Union, the world's first communist state. At the beginning of the period, the British Empire was the world's most powerful nation,[13] having acted as the world's policeman for the past century. In total, World War II left some 60 million people dead. At the beginning of the century, strong discrimination based on race and sex was significant in most societies. The world was undergoing its second major period of globalization; the first, which started in the 18th century, having been terminated by World War I. Since the US was in a dominant position, a major part of the process was Americanization. Terrorism, dictatorship, and the spread of nuclear weapons were pressing global issues. The world was still blighted by small-scale wars and other violent conflicts, fueled by competition over resources and by ethnic conflicts. Millions were infected with HIV, the virus which causes AIDS. This includes deaths caused by wars, genocide, politicide and mass murders. Prior to the 20th century, music was generally only experienced in live performances. Later in the 20th century, the development of computers led to the establishment of a theory of computation.\n"
          ]
        }
      ]
    }
  ]
}